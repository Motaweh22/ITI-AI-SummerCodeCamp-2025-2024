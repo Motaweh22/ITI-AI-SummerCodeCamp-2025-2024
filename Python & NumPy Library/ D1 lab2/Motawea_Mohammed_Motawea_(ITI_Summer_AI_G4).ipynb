{
  "cells": [
    {
      "cell_type": "markdown",
      "metadata": {
        "id": "view-in-github",
        "colab_type": "text"
      },
      "source": [
        "<a href=\"https://colab.research.google.com/github/Motaweh22/ITI-AI-SummerCodeCamp-2025-2024/blob/main/Python%20%26%20NumPy%20Library/%20D1%20lab2/Motawea_Mohammed_Motawea_(ITI_Summer_AI_G4).ipynb\" target=\"_parent\"><img src=\"https://colab.research.google.com/assets/colab-badge.svg\" alt=\"Open In Colab\"/></a>"
      ]
    },
    {
      "cell_type": "markdown",
      "metadata": {
        "id": "QCVApvP4tCnD"
      },
      "source": [
        "# Intro to Python Day 02 Lab Plain"
      ]
    },
    {
      "cell_type": "markdown",
      "metadata": {
        "id": "N_8lyqPitCnH"
      },
      "source": [
        "## Problem 1"
      ]
    },
    {
      "cell_type": "markdown",
      "metadata": {
        "id": "cQJ2ByuOtCnI"
      },
      "source": [
        "Write a program that implements a function of addition with two arguments that sums those arguments and returns their sum."
      ]
    },
    {
      "cell_type": "code",
      "source": [
        "def add(a, b):\n",
        "    return a + b\n",
        "\n",
        "# Example usage\n",
        "result = add(5, 10)\n",
        "print(\"Sum:\", result)\n"
      ],
      "metadata": {
        "colab": {
          "base_uri": "https://localhost:8080/"
        },
        "id": "lStTDtsdspw7",
        "outputId": "6def54da-929b-4791-803f-373e7808840e"
      },
      "execution_count": null,
      "outputs": [
        {
          "output_type": "stream",
          "name": "stdout",
          "text": [
            "Sum: 15\n"
          ]
        }
      ]
    },
    {
      "cell_type": "markdown",
      "metadata": {
        "id": "XIq4EkHEtCnJ"
      },
      "source": [
        "## Problem 2"
      ]
    },
    {
      "cell_type": "markdown",
      "metadata": {
        "id": "gDOg2qcItCnJ"
      },
      "source": [
        "Write a program that sums all items in a list.\n"
      ]
    },
    {
      "cell_type": "code",
      "source": [
        "numbers = [1, 2, 3, 4, 5]\n",
        "\n",
        "# Sum all items in the list\n",
        "total_sum = sum(numbers)\n",
        "print(\"Sum of all items:\", total_sum)\n"
      ],
      "metadata": {
        "colab": {
          "base_uri": "https://localhost:8080/"
        },
        "id": "pGWy97tLsvDi",
        "outputId": "1eca7a09-9065-4dc7-e060-4768e3a4a87e"
      },
      "execution_count": null,
      "outputs": [
        {
          "output_type": "stream",
          "name": "stdout",
          "text": [
            "Sum of all items: 15\n"
          ]
        }
      ]
    },
    {
      "cell_type": "markdown",
      "metadata": {
        "id": "H6CBOAAYtCnJ"
      },
      "source": [
        "## Problem 3"
      ]
    },
    {
      "cell_type": "markdown",
      "metadata": {
        "id": "uHYI-NsftCnM"
      },
      "source": [
        "Write a program that accepts a string and calculate the number of  letters in the inputted string."
      ]
    },
    {
      "cell_type": "code",
      "source": [
        "string = input(\"Enter a string: \")\n",
        "\n",
        "# Calculate the number of letters\n",
        "num_letters = len(string)\n",
        "print(\"Number of letters in the string:\", num_letters)\n"
      ],
      "metadata": {
        "colab": {
          "base_uri": "https://localhost:8080/"
        },
        "id": "9HDFSfM7sw6q",
        "outputId": "bfcd7a1f-3f34-4228-c116-bfdb8f00ec47"
      },
      "execution_count": null,
      "outputs": [
        {
          "output_type": "stream",
          "name": "stdout",
          "text": [
            "Enter a string: motawe\n",
            "Number of letters in the string: 6\n"
          ]
        }
      ]
    },
    {
      "cell_type": "markdown",
      "metadata": {
        "id": "UZR4d6jStCnM"
      },
      "source": [
        "## Problem 4\n",
        "\n"
      ]
    },
    {
      "cell_type": "markdown",
      "metadata": {
        "id": "xiD8_q0XtCnM"
      },
      "source": [
        "You are given the following list.\n"
      ]
    },
    {
      "cell_type": "code",
      "execution_count": null,
      "metadata": {
        "id": "rGINYFPZtCnN"
      },
      "outputs": [],
      "source": [
        "apes = [\"Homo sapiens\", \"Pan troglodytes\", \"Gorilla gorilla\"]"
      ]
    },
    {
      "cell_type": "markdown",
      "metadata": {
        "id": "tTGh-rOctCnO"
      },
      "source": [
        "Write a program to print a similar out for each element in the list like the expected out below."
      ]
    },
    {
      "cell_type": "markdown",
      "metadata": {
        "id": "8OGJ-MAdtCnO"
      },
      "source": [
        "Homo sapiens is an ape. Its name has 12 letters."
      ]
    },
    {
      "cell_type": "code",
      "source": [
        "apes = [\"Homo sapiens\", \"Pan troglodytes\", \"Gorilla gorilla\"]\n",
        "\n",
        "for ape in apes:\n",
        "    print(f\"{ape} is an ape. Its name has {len(ape)} letters.\")\n"
      ],
      "metadata": {
        "colab": {
          "base_uri": "https://localhost:8080/"
        },
        "id": "JugvGuDis0vB",
        "outputId": "a67cc361-a263-43ce-8fd0-a0e8bc9b8079"
      },
      "execution_count": null,
      "outputs": [
        {
          "output_type": "stream",
          "name": "stdout",
          "text": [
            "Homo sapiens is an ape. Its name has 12 letters.\n",
            "Pan troglodytes is an ape. Its name has 15 letters.\n",
            "Gorilla gorilla is an ape. Its name has 15 letters.\n"
          ]
        }
      ]
    },
    {
      "cell_type": "markdown",
      "source": [
        "#Problem 5"
      ],
      "metadata": {
        "id": "hsQQ2mvqvfKV"
      }
    },
    {
      "cell_type": "markdown",
      "metadata": {
        "id": "irj3aPiCvKoh"
      },
      "source": [
        "Define a class called Songs, it will show the lyrics of a song. Its __init__() method should have two arguments: self and lyrics. lyrics is a list. Inside your class create a method called sing_me_a_song that prints each element of lyrics on its own line."
      ]
    },
    {
      "cell_type": "code",
      "source": [
        "class Songs:\n",
        "    def __init__(self, lyrics):\n",
        "        self.lyrics = lyrics\n",
        "\n",
        "    def sing_me_a_song(self):\n",
        "        for line in self.lyrics:\n",
        "            print(line)\n",
        "\n",
        "# Example usage\n",
        "song = Songs([\"Happy birthday to you\",\n",
        "              \"Happy birthday to you\",\n",
        "              \"Happy birthday dear friend\",\n",
        "              \"Happy birthday to you\"])\n",
        "song.sing_me_a_song()\n"
      ],
      "metadata": {
        "colab": {
          "base_uri": "https://localhost:8080/"
        },
        "id": "QgNaLX4Ks175",
        "outputId": "0c2d6634-a8b2-4370-a2c3-5d4eece05b6e"
      },
      "execution_count": null,
      "outputs": [
        {
          "output_type": "stream",
          "name": "stdout",
          "text": [
            "Happy birthday to you\n",
            "Happy birthday to you\n",
            "Happy birthday dear friend\n",
            "Happy birthday to you\n"
          ]
        }
      ]
    },
    {
      "cell_type": "markdown",
      "source": [
        "#Problem 6\n"
      ],
      "metadata": {
        "id": "EdV5jjKyNFV2"
      }
    },
    {
      "cell_type": "markdown",
      "metadata": {
        "id": "ld0f5E6NM9Iq"
      },
      "source": [
        "Write a program that implements child class Bus that inherits all of the variables and methods of the class Vehicle then create an object from the child class and print its values."
      ]
    },
    {
      "cell_type": "code",
      "source": [
        "class Vehicle:\n",
        "    def __init__(self, name, max_speed, mileage):\n",
        "        self.name = name\n",
        "        self.max_speed = max_speed\n",
        "        self.mileage = mileage\n",
        "\n",
        "    def vehicle_info(self):\n",
        "        return f\"Vehicle Name: {self.name}, Max Speed: {self.max_speed}, Mileage: {self.mileage}\"\n",
        "\n",
        "class Bus(Vehicle):\n",
        "    pass\n",
        "\n",
        "# Example usage\n",
        "bus = Bus(\"School Bus\", 120, 12)\n",
        "print(bus.vehicle_info())\n"
      ],
      "metadata": {
        "colab": {
          "base_uri": "https://localhost:8080/"
        },
        "id": "NHR7lUUus4dC",
        "outputId": "ef8733bb-af6b-44c0-f91b-aacf63952104"
      },
      "execution_count": null,
      "outputs": [
        {
          "output_type": "stream",
          "name": "stdout",
          "text": [
            "Vehicle Name: School Bus, Max Speed: 120, Mileage: 12\n"
          ]
        }
      ]
    },
    {
      "cell_type": "markdown",
      "source": [
        "#Problem 7\n"
      ],
      "metadata": {
        "id": "4gTdasjrNZiw"
      }
    },
    {
      "cell_type": "markdown",
      "source": [
        "Create text File and Apply all Modes on it (read& Write & Append )"
      ],
      "metadata": {
        "id": "g5DVSQqTNcoD"
      }
    },
    {
      "cell_type": "code",
      "source": [
        "# Write to a file\n",
        "with open('example.txt', 'w') as file:\n",
        "    file.write(\"This is a line written in write mode.\\n\")\n",
        "\n",
        "# Append to the file\n",
        "with open('example.txt', 'a') as file:\n",
        "    file.write(\"This line is appended to the file.\\n\")\n",
        "\n",
        "# Read the file\n",
        "with open('example.txt', 'r') as file:\n",
        "    content = file.read()\n",
        "\n",
        "print(\"File content:\\n\", content)\n"
      ],
      "metadata": {
        "colab": {
          "base_uri": "https://localhost:8080/"
        },
        "id": "Yg9brnkUs6Ng",
        "outputId": "0dec1f40-8555-43f1-b957-859fa54fec90"
      },
      "execution_count": null,
      "outputs": [
        {
          "output_type": "stream",
          "name": "stdout",
          "text": [
            "File content:\n",
            " This is a line written in write mode.\n",
            "This line is appended to the file.\n",
            "\n"
          ]
        }
      ]
    }
  ],
  "metadata": {
    "kernelspec": {
      "display_name": "Python 3",
      "language": "python",
      "name": "python3"
    },
    "language_info": {
      "codemirror_mode": {
        "name": "ipython",
        "version": 3
      },
      "file_extension": ".py",
      "mimetype": "text/x-python",
      "name": "python",
      "nbconvert_exporter": "python",
      "pygments_lexer": "ipython3",
      "version": "3.8.5"
    },
    "colab": {
      "provenance": [],
      "include_colab_link": true
    }
  },
  "nbformat": 4,
  "nbformat_minor": 0
}