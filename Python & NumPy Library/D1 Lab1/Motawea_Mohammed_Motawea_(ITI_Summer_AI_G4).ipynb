{
  "cells": [
    {
      "cell_type": "markdown",
      "metadata": {
        "id": "view-in-github",
        "colab_type": "text"
      },
      "source": [
        "<a href=\"https://colab.research.google.com/github/Motaweh22/ITI-AI-SummerCodeCamp-2025-2024/blob/main/Python%20%26%20NumPy%20Library/D1%20Lab1/Motawea_Mohammed_Motawea_(ITI_Summer_AI_G4).ipynb\" target=\"_parent\"><img src=\"https://colab.research.google.com/assets/colab-badge.svg\" alt=\"Open In Colab\"/></a>"
      ]
    },
    {
      "cell_type": "markdown",
      "metadata": {
        "id": "QvNtx-pyjJ_B"
      },
      "source": [
        "# Intro to Python Day 01 Lab Plain"
      ]
    },
    {
      "cell_type": "markdown",
      "metadata": {
        "id": "4dYLRjXEjJ_L"
      },
      "source": [
        "Compiled by Ali Heikal"
      ]
    },
    {
      "cell_type": "markdown",
      "metadata": {
        "id": "Ia9ENuIvjJ_N"
      },
      "source": [
        "## Problem 1"
      ]
    },
    {
      "cell_type": "markdown",
      "metadata": {
        "id": "_5-E3eP1jJ_O"
      },
      "source": [
        "Write a program to print \"Hello, World!\""
      ]
    },
    {
      "cell_type": "code",
      "execution_count": null,
      "metadata": {
        "colab": {
          "base_uri": "https://localhost:8080/"
        },
        "id": "WU2JkkZZjJ_P",
        "outputId": "85b28eb0-e76a-4c8d-c002-6e51872ab355"
      },
      "outputs": [
        {
          "output_type": "stream",
          "name": "stdout",
          "text": [
            "Hello, World!\n"
          ]
        }
      ],
      "source": [
        "print(\"Hello, World!\")"
      ]
    },
    {
      "cell_type": "markdown",
      "metadata": {
        "id": "_An-kM7djJ_e"
      },
      "source": [
        "## Problem 2"
      ]
    },
    {
      "cell_type": "markdown",
      "metadata": {
        "id": "o-GZN3OUjJ_f"
      },
      "source": [
        "Write a program to print date and time and a program to print time only."
      ]
    },
    {
      "cell_type": "code",
      "source": [
        "from datetime import datetime\n",
        "\n",
        "# Print date and time\n",
        "print(\"Current date and time:\", datetime.now())\n"
      ],
      "metadata": {
        "id": "uaN1Jzjzx0Pg",
        "colab": {
          "base_uri": "https://localhost:8080/"
        },
        "outputId": "36fd6fe9-7ace-48a9-ba30-9fa70ad8b897"
      },
      "execution_count": null,
      "outputs": [
        {
          "output_type": "stream",
          "name": "stdout",
          "text": [
            "Current date and time: 2024-08-11 09:00:42.586690\n"
          ]
        }
      ]
    },
    {
      "cell_type": "markdown",
      "metadata": {
        "id": "xGBspR_wjJ_h"
      },
      "source": [
        "## Problem 3"
      ]
    },
    {
      "cell_type": "code",
      "source": [
        "import sys\n",
        "\n",
        "# Print Python version\n",
        "print(\"Python Version:\", sys.version)\n",
        "\n",
        "# Print Python environment info\n",
        "print(\"Python Environment Info:\", sys.version_info)\n"
      ],
      "metadata": {
        "id": "Gcnc5r9Jo0t_",
        "outputId": "d84a25c5-2357-486a-d743-2c26b37f4945",
        "colab": {
          "base_uri": "https://localhost:8080/"
        }
      },
      "execution_count": null,
      "outputs": [
        {
          "output_type": "stream",
          "name": "stdout",
          "text": [
            "Python Version: 3.10.12 (main, Jul 29 2024, 16:56:48) [GCC 11.4.0]\n",
            "Python Environment Info: sys.version_info(major=3, minor=10, micro=12, releaselevel='final', serial=0)\n"
          ]
        }
      ]
    },
    {
      "cell_type": "markdown",
      "metadata": {
        "id": "RUE6C17ejJ_i"
      },
      "source": [
        "Write a program that prints Python version and info of the environment you are using."
      ]
    },
    {
      "cell_type": "markdown",
      "metadata": {
        "id": "JPB3LzFXjJ_j"
      },
      "source": [
        "## Problem 4"
      ]
    },
    {
      "cell_type": "code",
      "source": [
        "# Accept first and last name\n",
        "first_name = input(\"Enter your first name: \")\n",
        "last_name = input(\"Enter your last name: \")\n",
        "\n",
        "# Print names in reverse order\n",
        "print(f\"{last_name} {first_name}\")\n"
      ],
      "metadata": {
        "id": "QHXAM8-zo18q",
        "outputId": "beb4f952-267c-475f-b001-631f2325a328",
        "colab": {
          "base_uri": "https://localhost:8080/"
        }
      },
      "execution_count": null,
      "outputs": [
        {
          "output_type": "stream",
          "name": "stdout",
          "text": [
            "Enter your first name: motawea\n",
            "Enter your last name: nagi\n",
            "nagi motawea\n"
          ]
        }
      ]
    },
    {
      "cell_type": "markdown",
      "metadata": {
        "id": "QYNO9Bh5jJ_k"
      },
      "source": [
        "Write a program that accepts input of first name and last name and then print them in reverse order."
      ]
    },
    {
      "cell_type": "markdown",
      "metadata": {
        "id": "-hExmMiwjJ_l"
      },
      "source": [
        "## Problem 5"
      ]
    },
    {
      "cell_type": "markdown",
      "metadata": {
        "id": "tLvJHpoTjJ_l"
      },
      "source": [
        "Write a program that accepts one word from the user and print it in reverse order."
      ]
    },
    {
      "cell_type": "code",
      "source": [
        "# Accept a word\n",
        "word = input(\"Enter a word: \")\n",
        "\n",
        "# Print the word in reverse order\n",
        "print(word[::-1])\n"
      ],
      "metadata": {
        "id": "vQQY20nopC0J",
        "outputId": "dacd8707-bfc2-45ba-fe1b-5c677349ad9c",
        "colab": {
          "base_uri": "https://localhost:8080/"
        }
      },
      "execution_count": null,
      "outputs": [
        {
          "output_type": "stream",
          "name": "stdout",
          "text": [
            "Enter a word: cat\n",
            "tac\n"
          ]
        }
      ]
    },
    {
      "cell_type": "markdown",
      "metadata": {
        "id": "7oNO-AKsjJ_m"
      },
      "source": [
        "## Problem 6"
      ]
    },
    {
      "cell_type": "markdown",
      "metadata": {
        "id": "hMGtPOwcjJ_m"
      },
      "source": [
        "Write a program that parses a value once to float and once to integer."
      ]
    },
    {
      "cell_type": "code",
      "source": [
        "value = input(\"Enter a number: \")\n",
        "\n",
        "# Convert to float and integer\n",
        "float_value = float(value)\n",
        "int_value = int(float_value)\n",
        "\n",
        "print(\"Float:\", float_value)\n",
        "print(\"Integer:\", int_value)\n"
      ],
      "metadata": {
        "id": "PpTgoIKXpGAh",
        "outputId": "643b021c-4260-4e75-8d82-a462060f46f5",
        "colab": {
          "base_uri": "https://localhost:8080/"
        }
      },
      "execution_count": null,
      "outputs": [
        {
          "output_type": "stream",
          "name": "stdout",
          "text": [
            "Enter a number: 7\n",
            "Float: 7.0\n",
            "Integer: 7\n"
          ]
        }
      ]
    },
    {
      "cell_type": "markdown",
      "metadata": {
        "id": "aqWTEwkKjJ_m"
      },
      "source": [
        "## Problem 7"
      ]
    },
    {
      "cell_type": "markdown",
      "metadata": {
        "id": "EAK18vNejJ_n"
      },
      "source": [
        "Write a program that accepts an integer and print whether it is even or odd."
      ]
    },
    {
      "cell_type": "code",
      "source": [
        "n = int(input(\"Enter an integer: \"))\n",
        "\n",
        "# Check if even or odd\n",
        "if n % 2 == 0:\n",
        "    print(\"The number is even.\")\n",
        "else:\n",
        "    print(\"The number is odd.\")\n"
      ],
      "metadata": {
        "id": "FR35p6ulpJ9z",
        "outputId": "a95bb9dd-7a75-4b66-bfc9-0aa315edc546",
        "colab": {
          "base_uri": "https://localhost:8080/"
        }
      },
      "execution_count": null,
      "outputs": [
        {
          "output_type": "stream",
          "name": "stdout",
          "text": [
            "Enter an integer: 5\n",
            "The number is odd.\n"
          ]
        }
      ]
    },
    {
      "cell_type": "markdown",
      "metadata": {
        "id": "joZd9Y9UjJ_n"
      },
      "source": [
        "## Problem 8"
      ]
    },
    {
      "cell_type": "markdown",
      "metadata": {
        "id": "gs4rqhrMjJ_o"
      },
      "source": [
        "Write a program that accepts an integer (n) and computes the value of n+nn+nnn."
      ]
    },
    {
      "cell_type": "code",
      "source": [
        "n = input(\"Enter an integer (n): \")\n",
        "\n",
        "# Compute n + nn + nnn\n",
        "result = int(n) + int(n*2) + int(n*3)\n",
        "print(\"Result:\", result)\n"
      ],
      "metadata": {
        "id": "pt9_HqHypLX9",
        "outputId": "63e4dc9c-e903-4eb0-bb13-9a6a7e4bfe03",
        "colab": {
          "base_uri": "https://localhost:8080/"
        }
      },
      "execution_count": null,
      "outputs": [
        {
          "output_type": "stream",
          "name": "stdout",
          "text": [
            "Enter an integer (n): 8\n",
            "Result: 984\n"
          ]
        }
      ]
    },
    {
      "cell_type": "markdown",
      "metadata": {
        "id": "WOXVFG7TjJ_o"
      },
      "source": [
        "## Problem 9"
      ]
    },
    {
      "cell_type": "markdown",
      "metadata": {
        "id": "UDPEEJl6jJ_p"
      },
      "source": [
        "Write a program that prints \"Hello, World!\" 3 times without using loops and without writing it more than once."
      ]
    },
    {
      "cell_type": "code",
      "source": [
        "# Print \"Hello, World!\" 3 times\n",
        "print(\"Hello, World!\\n\" * 3)\n"
      ],
      "metadata": {
        "id": "NMoXZefhpNqH",
        "outputId": "e0223ead-64a2-41a2-f3b5-aec003d47114",
        "colab": {
          "base_uri": "https://localhost:8080/"
        }
      },
      "execution_count": null,
      "outputs": [
        {
          "output_type": "stream",
          "name": "stdout",
          "text": [
            "Hello, World!\n",
            "Hello, World!\n",
            "Hello, World!\n",
            "\n"
          ]
        }
      ]
    },
    {
      "cell_type": "markdown",
      "metadata": {
        "id": "xjr7cm6ZjJ_p"
      },
      "source": [
        "## Problem 10"
      ]
    },
    {
      "cell_type": "markdown",
      "metadata": {
        "id": "kUmggohfjJ_p"
      },
      "source": [
        "Write a program to get the length of a string, check if a word exists in a string, check if a word does not exist in a string."
      ]
    },
    {
      "cell_type": "code",
      "source": [
        "string = input(\"Enter a string: \")\n",
        "word = input(\"Enter a word to check: \")\n",
        "\n",
        "# Get length of the string\n",
        "print(\"Length of the string:\", len(string))\n",
        "\n",
        "# Check if word exists in the string\n",
        "if word in string:\n",
        "    print(f\"The word '{word}' exists in the string.\")\n",
        "else:\n",
        "    print(f\"The word '{word}' does not exist in the string.\")\n"
      ],
      "metadata": {
        "id": "dJfjM_QMpQ1s",
        "outputId": "a5827280-db6d-4d91-a99b-e0283a350e1c",
        "colab": {
          "base_uri": "https://localhost:8080/"
        }
      },
      "execution_count": null,
      "outputs": [
        {
          "output_type": "stream",
          "name": "stdout",
          "text": [
            "Enter a string: dog\n",
            "Enter a word to check: dod\n",
            "Length of the string: 3\n",
            "The word 'dod' does not exist in the string.\n"
          ]
        }
      ]
    },
    {
      "cell_type": "markdown",
      "metadata": {
        "id": "VTR7zVo6jJ_q"
      },
      "source": [
        "## Problem 11"
      ]
    },
    {
      "cell_type": "markdown",
      "metadata": {
        "id": "X9wIyf-njJ_r"
      },
      "source": [
        "Write a program to print the first 2 and the last 2 characters from a given a string. If the string length is less than 2, return instead an empty string."
      ]
    },
    {
      "cell_type": "code",
      "source": [
        "string = input(\"Enter a string: \")\n",
        "\n",
        "# Check string length and print accordingly\n",
        "if len(string) < 2:\n",
        "    print(\"Empty string\")\n",
        "else:\n",
        "    print(\"Result:\", string[:2] + string[-2:])\n"
      ],
      "metadata": {
        "id": "nY7i_MEapTUf",
        "outputId": "a1c8aa66-c622-4563-e28c-6832ad2b6778",
        "colab": {
          "base_uri": "https://localhost:8080/"
        }
      },
      "execution_count": null,
      "outputs": [
        {
          "output_type": "stream",
          "name": "stdout",
          "text": [
            "Enter a string: apple\n",
            "Result: aple\n"
          ]
        }
      ]
    },
    {
      "cell_type": "markdown",
      "metadata": {
        "id": "J0J7OclNjJ_r"
      },
      "source": [
        "## Problem 12"
      ]
    },
    {
      "cell_type": "markdown",
      "metadata": {
        "id": "FcnU9wQ7jJ_r"
      },
      "source": [
        "Write a program that concatenates two lists index-wise."
      ]
    },
    {
      "cell_type": "code",
      "source": [
        "list1 = ['a', 'b', 'c']\n",
        "list2 = [1, 2, 3]\n",
        "\n",
        "# Concatenate lists index-wise\n",
        "result = [str(list1[i]) + str(list2[i]) for i in range(len(list1))]\n",
        "print(\"Concatenated List:\", result)\n"
      ],
      "metadata": {
        "id": "HG34c3YYpVUn",
        "outputId": "a7cf6f20-652f-4070-8b53-db9baa9aa504",
        "colab": {
          "base_uri": "https://localhost:8080/"
        }
      },
      "execution_count": null,
      "outputs": [
        {
          "output_type": "stream",
          "name": "stdout",
          "text": [
            "Concatenated List: ['a1', 'b2', 'c3']\n"
          ]
        }
      ]
    },
    {
      "cell_type": "markdown",
      "metadata": {
        "id": "mVWSFGlJjJ_s"
      },
      "source": [
        "## Problem 13"
      ]
    },
    {
      "cell_type": "markdown",
      "metadata": {
        "id": "udbDVBcojJ_s"
      },
      "source": [
        "Write a program to square every item of a list."
      ]
    },
    {
      "cell_type": "code",
      "source": [
        "numbers = [1, 2, 3, 4]\n",
        "\n",
        "# Square each item in the list\n",
        "squared_numbers = [x**2 for x in numbers]\n",
        "print(\"Squared List:\", squared_numbers)\n"
      ],
      "metadata": {
        "id": "hFZEGZvhpXsF",
        "outputId": "e8740bae-bacf-4c10-f614-a14f9b12ea13",
        "colab": {
          "base_uri": "https://localhost:8080/"
        }
      },
      "execution_count": null,
      "outputs": [
        {
          "output_type": "stream",
          "name": "stdout",
          "text": [
            "Squared List: [1, 4, 9, 16]\n"
          ]
        }
      ]
    },
    {
      "cell_type": "markdown",
      "metadata": {
        "id": "JAH54hdxjJ_t"
      },
      "source": [
        "## Problem 14"
      ]
    },
    {
      "cell_type": "markdown",
      "metadata": {
        "id": "4OPvOd0OjJ_t"
      },
      "source": [
        "Write a program to remove empty strings from a list of strings and then print the list."
      ]
    },
    {
      "cell_type": "code",
      "source": [
        "strings = [\"hello\", \"\", \"world\", \"\", \"python\"]\n",
        "\n",
        "# Remove empty strings\n",
        "filtered_strings = [string for string in strings if string]\n",
        "print(\"Filtered List:\", filtered_strings)\n"
      ],
      "metadata": {
        "id": "OcgfMnRmpZo8",
        "outputId": "d174b246-ac75-48e3-b481-c2f049353aea",
        "colab": {
          "base_uri": "https://localhost:8080/"
        }
      },
      "execution_count": null,
      "outputs": [
        {
          "output_type": "stream",
          "name": "stdout",
          "text": [
            "Filtered List: ['hello', 'world', 'python']\n"
          ]
        }
      ]
    },
    {
      "cell_type": "markdown",
      "metadata": {
        "id": "I6baJ3LZjJ_u"
      },
      "source": [
        "## Problem 15"
      ]
    },
    {
      "cell_type": "markdown",
      "metadata": {
        "id": "bCcSlC4_jJ_u"
      },
      "source": [
        "Write a program that reverses a tuple."
      ]
    },
    {
      "cell_type": "code",
      "source": [
        "t = (1, 2, 3, 4)\n",
        "\n",
        "# Reverse the tuple\n",
        "reversed_tuple = t[::-1]\n",
        "print(\"Reversed Tuple:\", reversed_tuple)\n"
      ],
      "metadata": {
        "id": "1FVq-9v9pg6-",
        "outputId": "d024fb53-43de-4f19-f38e-d5c168450101",
        "colab": {
          "base_uri": "https://localhost:8080/"
        }
      },
      "execution_count": null,
      "outputs": [
        {
          "output_type": "stream",
          "name": "stdout",
          "text": [
            "Reversed Tuple: (4, 3, 2, 1)\n"
          ]
        }
      ]
    },
    {
      "cell_type": "markdown",
      "metadata": {
        "id": "T0wQN-60jJ_u"
      },
      "source": [
        "## Problem 16"
      ]
    },
    {
      "cell_type": "markdown",
      "metadata": {
        "id": "UnxBlqMwjJ_v"
      },
      "source": [
        "Write a program that converts a tuple to individual variables."
      ]
    },
    {
      "cell_type": "code",
      "source": [
        "t = (1, 2, 3)\n",
        "\n",
        "# Unpack the tuple into variables\n",
        "a, b, c = t\n",
        "print(a, b, c)\n"
      ],
      "metadata": {
        "id": "hZbUUFKlpjgM",
        "outputId": "09e0ca69-6422-4103-d976-df7df389fad2",
        "colab": {
          "base_uri": "https://localhost:8080/"
        }
      },
      "execution_count": null,
      "outputs": [
        {
          "output_type": "stream",
          "name": "stdout",
          "text": [
            "1 2 3\n"
          ]
        }
      ]
    },
    {
      "cell_type": "markdown",
      "metadata": {
        "id": "ATvJ8zcxjJ_v"
      },
      "source": [
        "## Problem 17"
      ]
    },
    {
      "cell_type": "markdown",
      "metadata": {
        "id": "GL4g5j4njJ_v"
      },
      "source": [
        "Write a program to count of occurrences of an item."
      ]
    },
    {
      "cell_type": "code",
      "source": [
        "items = [1, 2, 2, 3, 3, 3]\n",
        "\n",
        "# Count occurrences of an item\n",
        "count = items.count(2)\n",
        "print(\"Count of 2:\", count)\n"
      ],
      "metadata": {
        "id": "qfmJOgYEplIl",
        "outputId": "2641068e-8256-4f5e-ca49-067ca709c1ec",
        "colab": {
          "base_uri": "https://localhost:8080/"
        }
      },
      "execution_count": null,
      "outputs": [
        {
          "output_type": "stream",
          "name": "stdout",
          "text": [
            "Count of 2: 2\n"
          ]
        }
      ]
    },
    {
      "cell_type": "markdown",
      "metadata": {
        "id": "2KrvMPdTjJ_v"
      },
      "source": [
        "## Problem 18"
      ]
    },
    {
      "cell_type": "markdown",
      "metadata": {
        "id": "21OOYVBxjJ_w"
      },
      "source": [
        "Write a program that detects the similar items between two sets and print them."
      ]
    },
    {
      "cell_type": "code",
      "source": [
        "set1 = {1, 2, 3}\n",
        "set2 = {2, 3, 4}\n",
        "\n",
        "# Find similar items\n",
        "similar_items = set1 & set2\n",
        "print(\"Similar items:\", similar_items)\n"
      ],
      "metadata": {
        "id": "sdO_waoapoEM",
        "outputId": "d7da7fc8-d8e7-443d-f089-4aa424ac64ed",
        "colab": {
          "base_uri": "https://localhost:8080/"
        }
      },
      "execution_count": null,
      "outputs": [
        {
          "output_type": "stream",
          "name": "stdout",
          "text": [
            "Similar items: {2, 3}\n"
          ]
        }
      ]
    },
    {
      "cell_type": "markdown",
      "metadata": {
        "id": "0Mrq8JTWjJ_5"
      },
      "source": [
        "## Problem 19"
      ]
    },
    {
      "cell_type": "markdown",
      "metadata": {
        "id": "L4KeHMh7jJ_5"
      },
      "source": [
        "Write a program that combines 2 sets in a new one while removing duplicates."
      ]
    },
    {
      "cell_type": "code",
      "source": [
        "set1 = {1, 2, 3}\n",
        "set2 = {3, 4, 5}\n",
        "\n",
        "# Combine sets and remove duplicates\n",
        "combined_set = set1 | set2\n",
        "print(\"Combined Set:\", combined_set)\n"
      ],
      "metadata": {
        "id": "RVdKXDm1pqQ0",
        "outputId": "e8de6dc0-656d-4f90-8003-7cf7e2d1039c",
        "colab": {
          "base_uri": "https://localhost:8080/"
        }
      },
      "execution_count": null,
      "outputs": [
        {
          "output_type": "stream",
          "name": "stdout",
          "text": [
            "Combined Set: {1, 2, 3, 4, 5}\n"
          ]
        }
      ]
    },
    {
      "cell_type": "markdown",
      "metadata": {
        "id": "o7W4Vi4LjJ_5"
      },
      "source": [
        "## Problem 20"
      ]
    },
    {
      "cell_type": "markdown",
      "metadata": {
        "id": "vwiesuxPjJ_6"
      },
      "source": [
        "Write a program that removes values in set 1 similar to values in set 2 and print the result."
      ]
    },
    {
      "cell_type": "code",
      "source": [
        "set1 = {1, 2, 3}\n",
        "set2 = {2, 3, 4}\n",
        "\n",
        "# Remove similar values\n",
        "set1.difference_update(set2)\n",
        "print(\"Set after removing similar values:\", set1)\n"
      ],
      "metadata": {
        "id": "3bsEt11vprHv",
        "outputId": "d5df4b6a-9074-4845-fdd9-daa96bdfaef1",
        "colab": {
          "base_uri": "https://localhost:8080/"
        }
      },
      "execution_count": null,
      "outputs": [
        {
          "output_type": "stream",
          "name": "stdout",
          "text": [
            "Set after removing similar values: {1}\n"
          ]
        }
      ]
    },
    {
      "cell_type": "markdown",
      "metadata": {
        "id": "JXxz8L3qjJ_6"
      },
      "source": [
        "## Problem 21"
      ]
    },
    {
      "cell_type": "markdown",
      "metadata": {
        "id": "o-KvFoPZjJ_6"
      },
      "source": [
        "Write a program that converts two lists to a dictionary."
      ]
    },
    {
      "cell_type": "code",
      "source": [
        "keys = ['a', 'b', 'c']\n",
        "values = [1, 2, 3]\n",
        "\n",
        "# Convert lists to dictionary\n",
        "dictionary = dict(zip(keys, values))\n",
        "print(\"Dictionary:\", dictionary)\n"
      ],
      "metadata": {
        "id": "rRPpHB_-psoJ",
        "outputId": "75459938-7a50-4451-d2b6-dc728de882ca",
        "colab": {
          "base_uri": "https://localhost:8080/"
        }
      },
      "execution_count": null,
      "outputs": [
        {
          "output_type": "stream",
          "name": "stdout",
          "text": [
            "Dictionary: {'a': 1, 'b': 2, 'c': 3}\n"
          ]
        }
      ]
    },
    {
      "cell_type": "markdown",
      "metadata": {
        "id": "bIsHdxkGjJ_7"
      },
      "source": [
        "## Problem 22"
      ]
    },
    {
      "cell_type": "markdown",
      "metadata": {
        "id": "x0n6w9DgjJ_7"
      },
      "source": [
        "Write a program that extracts specific keys from a given dictionary and create a new dictionary out of them."
      ]
    },
    {
      "cell_type": "code",
      "source": [
        "original_dict = {'a': 1, 'b': 2, 'c': 3}\n",
        "keys_to_extract = ['a', 'c']\n",
        "\n",
        "# Extract specific keys\n",
        "new_dict = {k: original_dict[k] for k in keys_to_extract}\n",
        "print(\"New Dictionary:\", new_dict)\n"
      ],
      "metadata": {
        "id": "aLQ-ynndpuWK",
        "outputId": "bdd00630-5fd5-4d63-ac76-35644d40517f",
        "colab": {
          "base_uri": "https://localhost:8080/"
        }
      },
      "execution_count": null,
      "outputs": [
        {
          "output_type": "stream",
          "name": "stdout",
          "text": [
            "New Dictionary: {'a': 1, 'c': 3}\n"
          ]
        }
      ]
    },
    {
      "cell_type": "markdown",
      "metadata": {
        "id": "q778dR61jJ_7"
      },
      "source": [
        "## Problem 23"
      ]
    },
    {
      "cell_type": "markdown",
      "metadata": {
        "id": "Sbft804YjJ_7"
      },
      "source": [
        "Write a program that removes keys from a given dictionary without creating a new dictionary."
      ]
    },
    {
      "cell_type": "code",
      "execution_count": null,
      "metadata": {
        "id": "uwdpyQ63jJ_8",
        "outputId": "ed97e138-d980-4253-d000-ffc2dbb9ab2e",
        "colab": {
          "base_uri": "https://localhost:8080/"
        }
      },
      "outputs": [
        {
          "output_type": "stream",
          "name": "stdout",
          "text": [
            "Updated Dictionary: {'c': 3}\n"
          ]
        }
      ],
      "source": [
        "dictionary = {'a': 1, 'b': 2, 'c': 3}\n",
        "\n",
        "# Remove keys\n",
        "del dictionary['a']\n",
        "del dictionary['b']\n",
        "\n",
        "print(\"Updated Dictionary:\", dictionary)\n"
      ]
    }
  ],
  "metadata": {
    "kernelspec": {
      "display_name": "Python 3",
      "language": "python",
      "name": "python3"
    },
    "language_info": {
      "codemirror_mode": {
        "name": "ipython",
        "version": 3
      },
      "file_extension": ".py",
      "mimetype": "text/x-python",
      "name": "python",
      "nbconvert_exporter": "python",
      "pygments_lexer": "ipython3",
      "version": "3.7.4"
    },
    "colab": {
      "provenance": [],
      "include_colab_link": true
    }
  },
  "nbformat": 4,
  "nbformat_minor": 0
}