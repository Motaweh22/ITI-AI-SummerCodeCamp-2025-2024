{
  "cells": [
    {
      "cell_type": "markdown",
      "metadata": {
        "id": "view-in-github",
        "colab_type": "text"
      },
      "source": [
        "<a href=\"https://colab.research.google.com/github/Motaweh22/ITI-AI-SummerCodeCamp-2025-2024/blob/main/Python%20%26%20NumPy%20Library/D2-Lab2/Motawea_Mohammed_Motawea_(ITI_Summer_AI_G4).ipynb\" target=\"_parent\"><img src=\"https://colab.research.google.com/assets/colab-badge.svg\" alt=\"Open In Colab\"/></a>"
      ]
    },
    {
      "cell_type": "markdown",
      "metadata": {
        "id": "5DEAM2Z8ZGFW"
      },
      "source": [
        "# Advanced NumPy\n",
        "\n",
        "Welcome to the advanced notebook in NumPy! If you have comments or suggestions, please don’t hesitate to share it in the end of the session!\n",
        "\n",
        "![alt_text](S1-pics\\NumPy_logo.png)"
      ]
    },
    {
      "cell_type": "code",
      "execution_count": null,
      "metadata": {
        "id": "Rp-cpGsZZGFc"
      },
      "outputs": [],
      "source": [
        "import numpy as np"
      ]
    },
    {
      "cell_type": "markdown",
      "metadata": {
        "id": "dQTqIyd5ZGFf"
      },
      "source": [
        "-----"
      ]
    },
    {
      "cell_type": "markdown",
      "metadata": {
        "id": "upxXrE7dZGFf"
      },
      "source": [
        "# Section 1: Broadcasting\n",
        "Broadcasting is simply a set of rules for applying binary ufuncs (e.g., addition, subtraction, multiplication, etc.) on arrays of different sizes.\n",
        "\n",
        "## Rules of Broadcasting\n",
        "\n",
        "Broadcasting in NumPy follows a strict set of rules to determine the interaction between the two arrays:\n",
        "\n",
        "- Rule 1: If the two arrays differ in their number of dimensions, the shape of the one with fewer dimensions is *padded* with ones on its leading (left) side.\n",
        "- Rule 2: If the shape of the two arrays does not match in any dimension, the array with shape equal to 1 in that dimension is stretched to match the other shape.\n",
        "- Rule 3: If in any dimension the sizes disagree and neither is equal to 1, an error is raised.\n",
        "\n",
        "---\n",
        "\n",
        "### Broadcasting example 1\n",
        "\n",
        "Let's look at adding a two-dimensional array to a one-dimensional array:"
      ]
    },
    {
      "cell_type": "code",
      "execution_count": null,
      "metadata": {
        "id": "IVpfaruoZGFh",
        "outputId": "b72d9962-4893-4696-f059-0ed973ecc0c1",
        "colab": {
          "base_uri": "https://localhost:8080/"
        }
      },
      "outputs": [
        {
          "output_type": "execute_result",
          "data": {
            "text/plain": [
              "array([[1., 1., 1.],\n",
              "       [1., 1., 1.]])"
            ]
          },
          "metadata": {},
          "execution_count": 23
        }
      ],
      "source": [
        "M = np.ones((2, 3))\n",
        "M"
      ]
    },
    {
      "cell_type": "code",
      "execution_count": null,
      "metadata": {
        "id": "IstpFOrKZGFk",
        "outputId": "f08ade13-518d-4725-ca31-ea73c0337202",
        "colab": {
          "base_uri": "https://localhost:8080/"
        }
      },
      "outputs": [
        {
          "output_type": "execute_result",
          "data": {
            "text/plain": [
              "array([0, 1, 2])"
            ]
          },
          "metadata": {},
          "execution_count": 24
        }
      ],
      "source": [
        "a = np.arange(3)\n",
        "a"
      ]
    },
    {
      "cell_type": "markdown",
      "metadata": {
        "id": "GzPYUNkzZGFl"
      },
      "source": [
        "Let's consider an operation on these two arrays. The shape of the arrays are\n",
        "\n",
        "- ``M.shape = (2, 3)``\n",
        "- ``a.shape = (3,)``\n",
        "\n",
        "We see by rule 1 that the array ``a`` has fewer dimensions, so we pad it on the left with ones:\n",
        "\n",
        "- ``M.shape -> (2, 3)``\n",
        "- ``a.shape -> (1, 3)``\n",
        "\n",
        "By rule 2, we now see that the first dimension disagrees, so we stretch this dimension to match:\n",
        "\n",
        "- ``M.shape -> (2, 3)``\n",
        "- ``a.shape -> (2, 3)``\n",
        "\n",
        "The shapes match, and we see that the final shape will be ``(2, 3)``:"
      ]
    },
    {
      "cell_type": "code",
      "execution_count": null,
      "metadata": {
        "id": "i0rE2DdAZGFl",
        "outputId": "5409f8f6-3888-4cef-a320-e10afe019fe5",
        "colab": {
          "base_uri": "https://localhost:8080/"
        }
      },
      "outputs": [
        {
          "output_type": "execute_result",
          "data": {
            "text/plain": [
              "array([[1., 2., 3.],\n",
              "       [1., 2., 3.]])"
            ]
          },
          "metadata": {},
          "execution_count": 25
        }
      ],
      "source": [
        "M + a"
      ]
    },
    {
      "cell_type": "markdown",
      "metadata": {
        "id": "C3mTd5NJZGFn"
      },
      "source": [
        "### Broadcasting example 2\n",
        "\n",
        "Let's take a look at an example where both arrays need to be broadcast:"
      ]
    },
    {
      "cell_type": "code",
      "execution_count": null,
      "metadata": {
        "id": "yq-81fHfZGFn",
        "outputId": "0c0f5274-acb3-4c0f-f5f9-1d67ca2458f6",
        "colab": {
          "base_uri": "https://localhost:8080/"
        }
      },
      "outputs": [
        {
          "output_type": "execute_result",
          "data": {
            "text/plain": [
              "array([[0],\n",
              "       [1],\n",
              "       [2]])"
            ]
          },
          "metadata": {},
          "execution_count": 26
        }
      ],
      "source": [
        "a = np.arange(3).reshape((3, 1))\n",
        "a"
      ]
    },
    {
      "cell_type": "code",
      "execution_count": null,
      "metadata": {
        "id": "0QLfJi2dZGFo",
        "outputId": "8a767ec8-18c1-4059-cd02-551459e52fc7",
        "colab": {
          "base_uri": "https://localhost:8080/"
        }
      },
      "outputs": [
        {
          "output_type": "execute_result",
          "data": {
            "text/plain": [
              "array([0, 1, 2])"
            ]
          },
          "metadata": {},
          "execution_count": 27
        }
      ],
      "source": [
        "b = np.arange(3)\n",
        "b"
      ]
    },
    {
      "cell_type": "markdown",
      "metadata": {
        "id": "AGEfoBMEZGFo"
      },
      "source": [
        "Again, we'll start by writing out the shape of the arrays:\n",
        "\n",
        "- ``a.shape = (3, 1)``\n",
        "- ``b.shape = (3,)``\n",
        "\n",
        "Rule 1 says we must pad the shape of ``b`` with ones:\n",
        "\n",
        "- ``a.shape -> (3, 1)``\n",
        "- ``b.shape -> (1, 3)``\n",
        "\n",
        "And rule 2 tells us that we upgrade each of these ones to match the corresponding size of the other array:\n",
        "\n",
        "- ``a.shape -> (3, 3)``\n",
        "- ``b.shape -> (3, 3)``\n",
        "\n",
        "Because the result matches, these shapes are compatible. We can see this here:"
      ]
    },
    {
      "cell_type": "code",
      "execution_count": null,
      "metadata": {
        "id": "dWaCuANkZGFp",
        "outputId": "58c50320-b247-42df-e0cb-d2ba43f0e2dc",
        "colab": {
          "base_uri": "https://localhost:8080/"
        }
      },
      "outputs": [
        {
          "output_type": "execute_result",
          "data": {
            "text/plain": [
              "array([[0, 1, 2],\n",
              "       [1, 2, 3],\n",
              "       [2, 3, 4]])"
            ]
          },
          "metadata": {},
          "execution_count": 28
        }
      ],
      "source": [
        "a + b"
      ]
    },
    {
      "cell_type": "markdown",
      "metadata": {
        "id": "yq_NiVpjZGFp"
      },
      "source": [
        "### Broadcasting example 3\n",
        "\n",
        "Now let's take a look at an example in which the two arrays are not compatible:"
      ]
    },
    {
      "cell_type": "code",
      "execution_count": null,
      "metadata": {
        "id": "xWFKBU3_ZGFp"
      },
      "outputs": [],
      "source": [
        "M = np.ones((3, 2))\n"
      ]
    },
    {
      "cell_type": "code",
      "execution_count": null,
      "metadata": {
        "id": "dOHRE-yRZGFq",
        "outputId": "3c47d8d7-fc82-48d0-a7de-4918a67d7e01",
        "colab": {
          "base_uri": "https://localhost:8080/"
        }
      },
      "outputs": [
        {
          "output_type": "execute_result",
          "data": {
            "text/plain": [
              "array([0, 1, 2])"
            ]
          },
          "metadata": {},
          "execution_count": 30
        }
      ],
      "source": [
        "a = np.arange(3)\n",
        "a"
      ]
    },
    {
      "cell_type": "markdown",
      "metadata": {
        "id": "NdAfCrNNZGFq"
      },
      "source": [
        "This is just a slightly different situation than in the first example: the matrix ``M`` is transposed.\n",
        "How does this affect the calculation? The shape of the arrays are\n",
        "\n",
        "- ``M.shape = (3, 2)``\n",
        "- ``a.shape = (3,)``\n",
        "\n",
        "Again, rule 1 tells us that we must pad the shape of ``a`` with ones:\n",
        "\n",
        "- ``M.shape -> (3, 2)``\n",
        "- ``a.shape -> (1, 3)``\n",
        "\n",
        "By rule 2, the first dimension of ``a`` is stretched to match that of ``M``:\n",
        "\n",
        "- ``M.shape -> (3, 2)``\n",
        "- ``a.shape -> (3, 3)``\n",
        "\n",
        "Now we hit rule 3–the final shapes do not match, so these two arrays are incompatible, as we can observe by attempting this operation:"
      ]
    },
    {
      "cell_type": "code",
      "execution_count": null,
      "metadata": {
        "id": "nYi_oUfaZGFr",
        "outputId": "4dec5a18-db47-4e44-ffd5-71aedbf965d0",
        "colab": {
          "base_uri": "https://localhost:8080/"
        }
      },
      "outputs": [
        {
          "output_type": "stream",
          "name": "stdout",
          "text": [
            "[[1. 1.]\n",
            " [2. 2.]\n",
            " [3. 3.]]\n"
          ]
        }
      ],
      "source": [
        "M = np.ones((3, 2))\n",
        "a = np.arange(3).reshape((3, 1))\n",
        "\n",
        "# Broadcasting will now work because the shapes are (3, 2) and (3, 1)\n",
        "result = M + a\n",
        "print(result)\n"
      ]
    },
    {
      "cell_type": "markdown",
      "metadata": {
        "id": "cusS1zp6ZGFs"
      },
      "source": [
        "Note the potential confusion here:\n",
        "you could imagine making ``a`` and ``M`` compatible by, say, padding ``a``'s shape with ones on the right rather than the left.\n",
        "But this is not how the broadcasting rules work!\n",
        "That sort of flexibility might be useful in some cases, but it would lead to potential areas of ambiguity.\n",
        "\n",
        "If right-side padding is what you'd like, you can do this explicitly by reshaping the array (we'll use the ``np.newaxis`` ):"
      ]
    },
    {
      "cell_type": "code",
      "execution_count": null,
      "metadata": {
        "id": "xn68-uFiZGFs",
        "outputId": "a1ff8129-ede9-42cd-c876-bef2698b3933",
        "colab": {
          "base_uri": "https://localhost:8080/"
        }
      },
      "outputs": [
        {
          "output_type": "execute_result",
          "data": {
            "text/plain": [
              "(3, 1, 1)"
            ]
          },
          "metadata": {},
          "execution_count": 32
        }
      ],
      "source": [
        "a[:, np.newaxis].shape"
      ]
    },
    {
      "cell_type": "code",
      "execution_count": null,
      "metadata": {
        "id": "VlbaIYYjZGFt",
        "outputId": "586eff56-1026-4220-bad5-65c961a56fea",
        "colab": {
          "base_uri": "https://localhost:8080/"
        }
      },
      "outputs": [
        {
          "output_type": "execute_result",
          "data": {
            "text/plain": [
              "array([[[1., 1.],\n",
              "        [1., 1.],\n",
              "        [1., 1.]],\n",
              "\n",
              "       [[2., 2.],\n",
              "        [2., 2.],\n",
              "        [2., 2.]],\n",
              "\n",
              "       [[3., 3.],\n",
              "        [3., 3.],\n",
              "        [3., 3.]]])"
            ]
          },
          "metadata": {},
          "execution_count": 33
        }
      ],
      "source": [
        "M + a[:, np.newaxis]"
      ]
    },
    {
      "cell_type": "markdown",
      "metadata": {
        "id": "aaL4gEldZGFt"
      },
      "source": [
        "Also note that while we've been focusing on the ``+`` operator here, these broadcasting rules apply to *any* binary ``ufunc``.\n",
        "For example, here is the ``logaddexp(a, b)`` function, which computes ``log(exp(a) + exp(b))`` with more precision than the naive approach:"
      ]
    },
    {
      "cell_type": "code",
      "execution_count": null,
      "metadata": {
        "id": "gZUHJhNXZGFu",
        "outputId": "5984c0a1-66cd-417b-b5ac-d63d536df64d",
        "colab": {
          "base_uri": "https://localhost:8080/"
        }
      },
      "outputs": [
        {
          "output_type": "execute_result",
          "data": {
            "text/plain": [
              "array([[[1.31326169, 1.31326169],\n",
              "        [1.31326169, 1.31326169],\n",
              "        [1.31326169, 1.31326169]],\n",
              "\n",
              "       [[1.69314718, 1.69314718],\n",
              "        [1.69314718, 1.69314718],\n",
              "        [1.69314718, 1.69314718]],\n",
              "\n",
              "       [[2.31326169, 2.31326169],\n",
              "        [2.31326169, 2.31326169],\n",
              "        [2.31326169, 2.31326169]]])"
            ]
          },
          "metadata": {},
          "execution_count": 34
        }
      ],
      "source": [
        "np.logaddexp(M, a[:, np.newaxis])"
      ]
    },
    {
      "cell_type": "markdown",
      "metadata": {
        "id": "NA2w84ipZGFv"
      },
      "source": [
        "---\n",
        "## Broadcasting in Practice\n",
        "### Centering an array\n",
        "\n",
        "One commonly seen example is when centering an array of data.\n",
        "\n",
        "Imagine you have an array of `10 observations`, each of which consists of `3 values`."
      ]
    },
    {
      "cell_type": "code",
      "execution_count": null,
      "metadata": {
        "id": "1C3ua2avZGFw",
        "outputId": "a683fae7-056e-49eb-8342-b380f45dc41d",
        "colab": {
          "base_uri": "https://localhost:8080/"
        }
      },
      "outputs": [
        {
          "output_type": "execute_result",
          "data": {
            "text/plain": [
              "array([[0.48397872, 0.4196648 , 0.94689756],\n",
              "       [0.76944511, 0.30462847, 0.04140123],\n",
              "       [0.14681662, 0.11854479, 0.58624178],\n",
              "       [0.58187366, 0.46936544, 0.03467321],\n",
              "       [0.97591828, 0.80931423, 0.74532663],\n",
              "       [0.48715868, 0.55884877, 0.93985356],\n",
              "       [0.16459143, 0.21339246, 0.9643398 ],\n",
              "       [0.9232818 , 0.92287581, 0.48962367],\n",
              "       [0.83578318, 0.72819324, 0.70562733],\n",
              "       [0.08506594, 0.66589695, 0.11685754]])"
            ]
          },
          "metadata": {},
          "execution_count": 35
        }
      ],
      "source": [
        "X = np.random.random((10, 3))\n",
        "X"
      ]
    },
    {
      "cell_type": "markdown",
      "metadata": {
        "id": "yzZ2lkvoZGFx"
      },
      "source": [
        "We can compute the mean of each feature using the ``mean`` aggregate across the first dimension:"
      ]
    },
    {
      "cell_type": "code",
      "execution_count": null,
      "metadata": {
        "id": "PDGS_lbyZGFx",
        "outputId": "7916e6f2-9c1e-41eb-e61f-d4b01c0031a8",
        "colab": {
          "base_uri": "https://localhost:8080/"
        }
      },
      "outputs": [
        {
          "output_type": "execute_result",
          "data": {
            "text/plain": [
              "array([0.54539134, 0.5210725 , 0.55708423])"
            ]
          },
          "metadata": {},
          "execution_count": 36
        }
      ],
      "source": [
        "Xmean = X.mean(0)\n",
        "Xmean"
      ]
    },
    {
      "cell_type": "markdown",
      "metadata": {
        "id": "64GuvSTrZGFy"
      },
      "source": [
        "And now we can center the ``X`` array by subtracting the mean (this is a broadcasting operation):"
      ]
    },
    {
      "cell_type": "code",
      "execution_count": null,
      "metadata": {
        "id": "_K5VGByPZGFz",
        "outputId": "9b6a7967-8b58-4bde-aba3-18e49626a109",
        "colab": {
          "base_uri": "https://localhost:8080/"
        }
      },
      "outputs": [
        {
          "output_type": "execute_result",
          "data": {
            "text/plain": [
              "array([[-0.06141262, -0.10140769,  0.38981333],\n",
              "       [ 0.22405376, -0.21644402, -0.515683  ],\n",
              "       [-0.39857472, -0.4025277 ,  0.02915755],\n",
              "       [ 0.03648232, -0.05170705, -0.52241102],\n",
              "       [ 0.43052694,  0.28824174,  0.1882424 ],\n",
              "       [-0.05823266,  0.03777627,  0.38276933],\n",
              "       [-0.38079991, -0.30768004,  0.40725557],\n",
              "       [ 0.37789046,  0.40180331, -0.06746056],\n",
              "       [ 0.29039184,  0.20712075,  0.1485431 ],\n",
              "       [-0.4603254 ,  0.14482446, -0.44022669]])"
            ]
          },
          "metadata": {},
          "execution_count": 37
        }
      ],
      "source": [
        "X_centered = X - Xmean\n",
        "X_centered"
      ]
    },
    {
      "cell_type": "markdown",
      "metadata": {
        "id": "P39hiM5sZGFz"
      },
      "source": [
        "To double-check that we've done this correctly, we can check that the centered array has near zero mean:"
      ]
    },
    {
      "cell_type": "code",
      "execution_count": null,
      "metadata": {
        "id": "tHocCQExZGF0",
        "outputId": "fe36e75c-53e3-4cca-fc15-ed6be91c2f1e",
        "colab": {
          "base_uri": "https://localhost:8080/"
        }
      },
      "outputs": [
        {
          "output_type": "execute_result",
          "data": {
            "text/plain": [
              "array([-1.11022302e-17,  3.33066907e-17,  3.33066907e-17])"
            ]
          },
          "metadata": {},
          "execution_count": 38
        }
      ],
      "source": [
        "X_centered.mean(0)"
      ]
    },
    {
      "cell_type": "markdown",
      "metadata": {
        "id": "Pr3BNMxjZGF0"
      },
      "source": [
        "----"
      ]
    },
    {
      "cell_type": "markdown",
      "metadata": {
        "id": "j7GeQ0_jZGF1"
      },
      "source": [
        "# Section 2: More useful array operations\n",
        "This section covers `maximum`, `minimum`, `sum`, `mean`, `product`, `standard deviation` and more\n",
        "\n",
        "NumPy also performs aggregation functions. In addition to `min`, `max`, and `sum`,\n",
        "- you can easily run `mean` to get the average,\n",
        "-`prod` to get the result of multiplying the elements together,\n",
        "-`std` to get the standard deviation, and more.\n",
        "\n",
        "Once you’ve created your arrays, you can start to work with them."
      ]
    },
    {
      "cell_type": "code",
      "execution_count": null,
      "metadata": {
        "id": "6lHU0WYiZGF1",
        "outputId": "f488c772-a95d-4e5f-a1e5-ff30c0ac9fed",
        "colab": {
          "base_uri": "https://localhost:8080/"
        }
      },
      "outputs": [
        {
          "output_type": "execute_result",
          "data": {
            "text/plain": [
              "array([1., 2., 3.])"
            ]
          },
          "metadata": {},
          "execution_count": 39
        }
      ],
      "source": [
        "data = np.array([1.0, 2.0, 3.0])\n",
        "data"
      ]
    },
    {
      "cell_type": "code",
      "execution_count": null,
      "metadata": {
        "id": "zJ1fAvjLZGF2",
        "outputId": "d136cb85-b291-4b98-fc95-60c741de3738",
        "colab": {
          "base_uri": "https://localhost:8080/"
        }
      },
      "outputs": [
        {
          "output_type": "execute_result",
          "data": {
            "text/plain": [
              "3.0"
            ]
          },
          "metadata": {},
          "execution_count": 40
        }
      ],
      "source": [
        "data.max()"
      ]
    },
    {
      "cell_type": "code",
      "execution_count": null,
      "metadata": {
        "id": "agVjq5LIZGF2",
        "outputId": "7f2e81c7-781f-4fff-9cc7-3dd21444cb61",
        "colab": {
          "base_uri": "https://localhost:8080/"
        }
      },
      "outputs": [
        {
          "output_type": "execute_result",
          "data": {
            "text/plain": [
              "1.0"
            ]
          },
          "metadata": {},
          "execution_count": 41
        }
      ],
      "source": [
        "data.min()"
      ]
    },
    {
      "cell_type": "code",
      "execution_count": null,
      "metadata": {
        "id": "Wn0UZHyUZGF3",
        "outputId": "1b387e3e-5670-4262-cac2-fce86d05c033",
        "colab": {
          "base_uri": "https://localhost:8080/"
        }
      },
      "outputs": [
        {
          "output_type": "execute_result",
          "data": {
            "text/plain": [
              "6.0"
            ]
          },
          "metadata": {},
          "execution_count": 42
        }
      ],
      "source": [
        "data.sum()"
      ]
    },
    {
      "cell_type": "markdown",
      "metadata": {
        "id": "N77nrk-GZGF3"
      },
      "source": [
        "![alt_text](S1-pics\\data.png)"
      ]
    },
    {
      "cell_type": "markdown",
      "metadata": {
        "id": "djjcLab1ZGF3"
      },
      "source": [
        "Let’s start with this array, called `a`\n",
        "\n",
        "It’s very common to want to aggregate along a row or column. By default, every NumPy aggregation function will return the aggregate of the entire array.\n",
        "\n",
        "**Try It**\n",
        "- To find the sum or the minimum of the elements in your array\n",
        "\n"
      ]
    },
    {
      "cell_type": "code",
      "execution_count": null,
      "metadata": {
        "id": "AYMlYr76ZGGC"
      },
      "outputs": [],
      "source": [
        "a = np.array([[0.45053314, 0.17296777, 0.34376245, 0.5510652],\n",
        "               [0.54627315, 0.05093587, 0.40067661, 0.55645993],\n",
        "               [0.12697628, 0.82485143, 0.26590556, 0.56917101]])"
      ]
    },
    {
      "cell_type": "code",
      "execution_count": null,
      "metadata": {
        "id": "yRQqPghrZGGC",
        "colab": {
          "base_uri": "https://localhost:8080/"
        },
        "outputId": "85b98c80-284e-4f9d-8579-6d1dbdff05bc"
      },
      "outputs": [
        {
          "output_type": "stream",
          "name": "stdout",
          "text": [
            "Sum of all elements: 4.8595784\n"
          ]
        }
      ],
      "source": [
        "# Find the sum of all elements\n",
        "sum_all = a.sum()\n",
        "print(\"Sum of all elements:\", sum_all)"
      ]
    },
    {
      "cell_type": "code",
      "execution_count": null,
      "metadata": {
        "id": "Lgb3OKpwZGGD",
        "colab": {
          "base_uri": "https://localhost:8080/"
        },
        "outputId": "d58293ab-8c2c-4211-e3fa-6716980490c4"
      },
      "outputs": [
        {
          "output_type": "stream",
          "name": "stdout",
          "text": [
            "Minimum of all elements: 0.05093587\n"
          ]
        }
      ],
      "source": [
        "# Find the minimum value of all elements\n",
        "min_all = a.min()\n",
        "print(\"Minimum of all elements:\", min_all)"
      ]
    },
    {
      "cell_type": "markdown",
      "metadata": {
        "id": "Iw3s5y5MZGGD"
      },
      "source": [
        "You can specify on which axis you want the aggregation function to be computed.\n",
        "\n",
        "**Try To**\n",
        "- find the minimum value within each column by specifying `axis=0`."
      ]
    },
    {
      "cell_type": "code",
      "execution_count": null,
      "metadata": {
        "id": "B6mi6y7fZGGD",
        "colab": {
          "base_uri": "https://localhost:8080/"
        },
        "outputId": "4efc3dfa-f397-44d2-a380-ffae30a36f2d"
      },
      "outputs": [
        {
          "output_type": "stream",
          "name": "stdout",
          "text": [
            "Minimum value in each column: [0.12697628 0.05093587 0.26590556 0.5510652 ]\n"
          ]
        }
      ],
      "source": [
        "# Find the minimum value within each column\n",
        "min_per_column = a.min(axis=0)\n",
        "print(\"Minimum value in each column:\", min_per_column)"
      ]
    },
    {
      "cell_type": "markdown",
      "metadata": {
        "id": "7vIqIM9yZGGE"
      },
      "source": [
        "The four values listed above correspond to the number of columns in your array. With a four-column array, you will get four values as your result.\n",
        "\n",
        "**Read more about [array methods here](https://numpy.org/doc/stable/reference/arrays.ndarray.html#array-ndarray-methods).**"
      ]
    },
    {
      "cell_type": "markdown",
      "metadata": {
        "id": "uyN58YOcZGGE"
      },
      "source": [
        "---\n",
        "# Section 3: Creating matrices\n",
        "You can pass Python lists of lists to create a `2-D array` (or `matrix`) to represent them in NumPy.\n"
      ]
    },
    {
      "cell_type": "code",
      "execution_count": null,
      "metadata": {
        "id": "4dqB9Q5eZGGE",
        "outputId": "4f7288cd-9a19-4997-a982-6f295c9ee66e",
        "colab": {
          "base_uri": "https://localhost:8080/"
        }
      },
      "outputs": [
        {
          "output_type": "execute_result",
          "data": {
            "text/plain": [
              "array([[1, 2],\n",
              "       [3, 4],\n",
              "       [5, 6]])"
            ]
          },
          "metadata": {},
          "execution_count": 47
        }
      ],
      "source": [
        "data = np.array([[1, 2], [3, 4],[5,6]])\n",
        "data"
      ]
    },
    {
      "cell_type": "markdown",
      "metadata": {
        "id": "6nkXl_2TZGGF"
      },
      "source": [
        "![alt_text](S1-pics\\arr.png)\n",
        "\n",
        "Indexing and slicing operations are useful when you’re manipulating matrices:\n",
        "\n",
        "**Try It**\n",
        "- Select 1st element in 2nd column\n",
        "- Select all elements starting from 2nd row till the end\n",
        "- Select 1st and secomnd elemnts in the 1st row\n",
        "\n",
        "![alt_text](S1-pics\\ind.png)"
      ]
    },
    {
      "cell_type": "code",
      "execution_count": null,
      "metadata": {
        "id": "Nht6AiLAZGGF",
        "colab": {
          "base_uri": "https://localhost:8080/"
        },
        "outputId": "7f977ac8-5a7d-475f-930e-56911a5429cd"
      },
      "outputs": [
        {
          "output_type": "stream",
          "name": "stdout",
          "text": [
            "1st element in 2nd column: 2\n"
          ]
        }
      ],
      "source": [
        "# Select 1st element in 2nd column\n",
        "first_in_second_col = data[0, 1]\n",
        "print(\"1st element in 2nd column:\", first_in_second_col)"
      ]
    },
    {
      "cell_type": "code",
      "execution_count": null,
      "metadata": {
        "id": "PHIcwMJlZGGF",
        "colab": {
          "base_uri": "https://localhost:8080/"
        },
        "outputId": "d36ca474-0e5a-459a-8c4a-c379cb8318e1"
      },
      "outputs": [
        {
          "output_type": "stream",
          "name": "stdout",
          "text": [
            "Elements from 2nd row till the end:\n",
            " [[3 4]\n",
            " [5 6]]\n"
          ]
        }
      ],
      "source": [
        "# Select all elements starting from 2nd row till the end\n",
        "elements_from_2nd_row = data[1:]\n",
        "print(\"Elements from 2nd row till the end:\\n\", elements_from_2nd_row)\n"
      ]
    },
    {
      "cell_type": "code",
      "execution_count": null,
      "metadata": {
        "id": "cMOzbqtWZGGG",
        "colab": {
          "base_uri": "https://localhost:8080/"
        },
        "outputId": "7db71ffb-2cb6-4729-bb0a-80f18a001092"
      },
      "outputs": [
        {
          "output_type": "stream",
          "name": "stdout",
          "text": [
            "Elements from 2nd row till the end:\n",
            " [[3 4]\n",
            " [5 6]]\n"
          ]
        }
      ],
      "source": [
        "elements_from_2nd_row = data[1:]\n",
        "print(\"Elements from 2nd row till the end:\\n\", elements_from_2nd_row)"
      ]
    },
    {
      "cell_type": "code",
      "execution_count": null,
      "metadata": {
        "id": "yxO4nP5QZGGG",
        "colab": {
          "base_uri": "https://localhost:8080/"
        },
        "outputId": "db926568-362f-4f94-a155-e08a4da691ad"
      },
      "outputs": [
        {
          "output_type": "stream",
          "name": "stdout",
          "text": [
            "1st and 2nd elements in 1st row: [1 2]\n"
          ]
        }
      ],
      "source": [
        "# Select 1st and second elements in the 1st row\n",
        "first_and_second_in_first_row = data[0, :2]\n",
        "print(\"1st and 2nd elements in 1st row:\", first_and_second_in_first_row)"
      ]
    },
    {
      "cell_type": "markdown",
      "metadata": {
        "id": "gzoebonCZGGH"
      },
      "source": [
        "You can aggregate matrices the same way you aggregated vectors:\n",
        "\n",
        "**Try to**\n",
        "- Get `max`, `min`, and `sum`\n",
        "![alt_text](S1-pics\\agg.png)"
      ]
    },
    {
      "cell_type": "code",
      "execution_count": null,
      "metadata": {
        "id": "lPYcSGnqZGGH",
        "colab": {
          "base_uri": "https://localhost:8080/"
        },
        "outputId": "dba8294f-f0af-44de-efae-38d6a808730d"
      },
      "outputs": [
        {
          "output_type": "stream",
          "name": "stdout",
          "text": [
            "Max value: 6\n"
          ]
        }
      ],
      "source": [
        "# Get max\n",
        "max_value = data.max()\n",
        "print(\"Max value:\", max_value)\n"
      ]
    },
    {
      "cell_type": "code",
      "execution_count": null,
      "metadata": {
        "id": "M1ORvtOXZGGI",
        "colab": {
          "base_uri": "https://localhost:8080/"
        },
        "outputId": "a8e3c651-f892-4e10-f1c2-92c1310ac13f"
      },
      "outputs": [
        {
          "output_type": "stream",
          "name": "stdout",
          "text": [
            "Min value: 1\n"
          ]
        }
      ],
      "source": [
        "# Get min\n",
        "min_value = data.min()\n",
        "print(\"Min value:\", min_value)\n"
      ]
    },
    {
      "cell_type": "code",
      "execution_count": null,
      "metadata": {
        "id": "IbUckw2tZGGI",
        "colab": {
          "base_uri": "https://localhost:8080/"
        },
        "outputId": "f20da0f1-cf5b-4a6f-886f-96938e944bcb"
      },
      "outputs": [
        {
          "output_type": "stream",
          "name": "stdout",
          "text": [
            "Sum of all elements: 21\n"
          ]
        }
      ],
      "source": [
        "# Get sum\n",
        "sum_value = data.sum()\n",
        "print(\"Sum of all elements:\", sum_value)"
      ]
    },
    {
      "cell_type": "markdown",
      "metadata": {
        "id": "G0HxgoYMZGGJ"
      },
      "source": [
        "You can aggregate all the values in a matrix and you can aggregate them across columns or rows using the `axis` parameter:\n",
        "    \n",
        "**Try to**\n",
        "- get `max` across both axes\n",
        "\n",
        "![alt_text](S1-pics\\axi-max.png)"
      ]
    },
    {
      "cell_type": "code",
      "execution_count": null,
      "metadata": {
        "id": "pGhr4yWrZGGJ",
        "colab": {
          "base_uri": "https://localhost:8080/"
        },
        "outputId": "663eda53-a075-4adc-d357-931d8a3e2798"
      },
      "outputs": [
        {
          "output_type": "stream",
          "name": "stdout",
          "text": [
            "Max across rows: [2 4 6]\n"
          ]
        }
      ],
      "source": [
        "# Max across rows\n",
        "max_across_rows = data.max(axis=1)\n",
        "print(\"Max across rows:\", max_across_rows)"
      ]
    },
    {
      "cell_type": "code",
      "execution_count": null,
      "metadata": {
        "id": "GNFP9s0jZGGK",
        "colab": {
          "base_uri": "https://localhost:8080/"
        },
        "outputId": "f18736fa-a7fe-4b18-cc7c-96f35a2e5ef6"
      },
      "outputs": [
        {
          "output_type": "stream",
          "name": "stdout",
          "text": [
            "Max across columns: [5 6]\n"
          ]
        }
      ],
      "source": [
        "# Max across columns\n",
        "max_across_columns = data.max(axis=0)\n",
        "print(\"Max across columns:\", max_across_columns)"
      ]
    },
    {
      "cell_type": "markdown",
      "metadata": {
        "id": "3rvRvj6nZGGK"
      },
      "source": [
        "### Adding matricies\n",
        "Once you’ve created your matrices, you can add and multiply them using arithmetic operators if you have two matrices that are the same size.\n",
        "\n",
        "![alt_text](S1-pics\\addmat.png)"
      ]
    },
    {
      "cell_type": "code",
      "execution_count": null,
      "metadata": {
        "id": "sXiFeKSNZGGK",
        "outputId": "fa666027-a964-46d7-cdf8-960e1ff98da1",
        "colab": {
          "base_uri": "https://localhost:8080/"
        }
      },
      "outputs": [
        {
          "output_type": "execute_result",
          "data": {
            "text/plain": [
              "array([[2, 3],\n",
              "       [4, 5]])"
            ]
          },
          "metadata": {},
          "execution_count": 57
        }
      ],
      "source": [
        "data = np.array([[1, 2], [3, 4]])\n",
        "ones = np.array([[1, 1], [1, 1]])\n",
        "data + ones"
      ]
    },
    {
      "cell_type": "markdown",
      "metadata": {
        "id": "QUvLcfheZGGL"
      },
      "source": [
        "You can do these arithmetic operations on matrices of different sizes, but only if one matrix has only one column or one row. In this case, NumPy will use its broadcast rules for the operation.\n",
        "\n",
        "![alt_text](S1-pics\\addrow.png)"
      ]
    },
    {
      "cell_type": "code",
      "execution_count": null,
      "metadata": {
        "id": "KuNwenHFZGGL",
        "outputId": "fe4f12a3-dc15-4b6a-ad70-8e974fb3a51e",
        "colab": {
          "base_uri": "https://localhost:8080/"
        }
      },
      "outputs": [
        {
          "output_type": "execute_result",
          "data": {
            "text/plain": [
              "array([[2, 3],\n",
              "       [4, 5],\n",
              "       [6, 7]])"
            ]
          },
          "metadata": {},
          "execution_count": 58
        }
      ],
      "source": [
        "data = np.array([[1, 2], [3, 4], [5, 6]])\n",
        "ones_row = np.array([[1, 1]])\n",
        "data + ones_row"
      ]
    },
    {
      "cell_type": "markdown",
      "metadata": {
        "id": "yZvWvokmZGGM"
      },
      "source": [
        "Be aware that when NumPy prints N-dimensional arrays, the last axis is looped over the fastest while the first axis is the slowest. For instance:"
      ]
    },
    {
      "cell_type": "code",
      "execution_count": null,
      "metadata": {
        "id": "m4UV9pEWZGGM",
        "outputId": "782a4e6b-771b-48ac-d61b-710de3e8bf6a",
        "colab": {
          "base_uri": "https://localhost:8080/"
        }
      },
      "outputs": [
        {
          "output_type": "execute_result",
          "data": {
            "text/plain": [
              "array([[[1., 1.],\n",
              "        [1., 1.],\n",
              "        [1., 1.]],\n",
              "\n",
              "       [[1., 1.],\n",
              "        [1., 1.],\n",
              "        [1., 1.]],\n",
              "\n",
              "       [[1., 1.],\n",
              "        [1., 1.],\n",
              "        [1., 1.]],\n",
              "\n",
              "       [[1., 1.],\n",
              "        [1., 1.],\n",
              "        [1., 1.]]])"
            ]
          },
          "metadata": {},
          "execution_count": 59
        }
      ],
      "source": [
        "np.ones((4, 3, 2))"
      ]
    },
    {
      "cell_type": "markdown",
      "metadata": {
        "id": "ylwXmI-nZGGN"
      },
      "source": [
        "There are often instances where we want NumPy to initialize the values of an array.\n",
        "\n",
        "NumPy offers functions like `ones()` and `zeros()`, and the `random.Generator` class for random number generation for that.\n",
        "\n",
        "All you need to do is pass in the number of elements you want it to generate:\n",
        "\n",
        "![alt_text](S1-pics\\10r.png)"
      ]
    },
    {
      "cell_type": "code",
      "execution_count": null,
      "metadata": {
        "id": "kGBvCRL8ZGGN",
        "outputId": "9ae7fb4f-04d1-49e6-d005-d97048a9e9a1",
        "colab": {
          "base_uri": "https://localhost:8080/"
        }
      },
      "outputs": [
        {
          "output_type": "execute_result",
          "data": {
            "text/plain": [
              "array([1., 1., 1.])"
            ]
          },
          "metadata": {},
          "execution_count": 60
        }
      ],
      "source": [
        "np.ones(3)"
      ]
    },
    {
      "cell_type": "code",
      "execution_count": null,
      "metadata": {
        "id": "SGeNxgpeZGGO",
        "outputId": "ed395571-373d-4650-e737-a5c30cd21399",
        "colab": {
          "base_uri": "https://localhost:8080/"
        }
      },
      "outputs": [
        {
          "output_type": "execute_result",
          "data": {
            "text/plain": [
              "array([0., 0., 0.])"
            ]
          },
          "metadata": {},
          "execution_count": 61
        }
      ],
      "source": [
        "np.zeros(3)"
      ]
    },
    {
      "cell_type": "code",
      "execution_count": null,
      "metadata": {
        "id": "wx0AvcwhZGGO",
        "outputId": "02b56f2c-4908-41cc-a547-53be59269b70",
        "colab": {
          "base_uri": "https://localhost:8080/"
        }
      },
      "outputs": [
        {
          "output_type": "execute_result",
          "data": {
            "text/plain": [
              "array([0.63696169, 0.26978671, 0.04097352])"
            ]
          },
          "metadata": {},
          "execution_count": 62
        }
      ],
      "source": [
        "# the simplest way to generate random numbers\n",
        "rng = np.random.default_rng(0)\n",
        "rng.random(3)"
      ]
    },
    {
      "cell_type": "markdown",
      "metadata": {
        "id": "I6H-AaZPZGGP"
      },
      "source": [
        "---\n",
        "You can also use `ones()`, `zeros()`, and `random()` to create a `2D array` if you give them a `tuple` describing the dimensions of the matrix:\n",
        "![alt_text](S1-pics\\tuple.png)"
      ]
    },
    {
      "cell_type": "code",
      "execution_count": null,
      "metadata": {
        "id": "oANzgwuZZGGP",
        "outputId": "f1ffffd6-5fb3-4113-fb4b-569af8995a36",
        "colab": {
          "base_uri": "https://localhost:8080/"
        }
      },
      "outputs": [
        {
          "output_type": "execute_result",
          "data": {
            "text/plain": [
              "array([[1., 1.],\n",
              "       [1., 1.],\n",
              "       [1., 1.]])"
            ]
          },
          "metadata": {},
          "execution_count": 63
        }
      ],
      "source": [
        "np.ones((3, 2))"
      ]
    },
    {
      "cell_type": "code",
      "execution_count": null,
      "metadata": {
        "id": "kN2dnXOuZGGR",
        "outputId": "bf00e0e4-f314-4fba-df31-4dfffab5be80",
        "colab": {
          "base_uri": "https://localhost:8080/"
        }
      },
      "outputs": [
        {
          "output_type": "execute_result",
          "data": {
            "text/plain": [
              "array([[0., 0.],\n",
              "       [0., 0.],\n",
              "       [0., 0.]])"
            ]
          },
          "metadata": {},
          "execution_count": 64
        }
      ],
      "source": [
        "np.zeros((3, 2))"
      ]
    },
    {
      "cell_type": "code",
      "execution_count": null,
      "metadata": {
        "id": "ZTncCvfhZGGR",
        "outputId": "d003c01d-5531-48e0-c928-d8fd3da4a683",
        "colab": {
          "base_uri": "https://localhost:8080/"
        }
      },
      "outputs": [
        {
          "output_type": "execute_result",
          "data": {
            "text/plain": [
              "array([[0.01652764, 0.81327024],\n",
              "       [0.91275558, 0.60663578],\n",
              "       [0.72949656, 0.54362499]])"
            ]
          },
          "metadata": {},
          "execution_count": 65
        }
      ],
      "source": [
        "rng.random((3, 2))"
      ]
    },
    {
      "cell_type": "markdown",
      "metadata": {
        "id": "RsxmTsHRZGGS"
      },
      "source": [
        "---\n",
        "# Section 4: Generating random numbers\n",
        "The use of random number generation is an important part of the configuration and evaluation of many numerical and machine learning algorithms.\n",
        "\n",
        "Whether you need to **randomly initialize weights** in an artificial neural network, **split data into random sets**, or **randomly shuffle your dataset**, being able to generate random numbers (actually, repeatable pseudo-random numbers) is essential.\n",
        "\n",
        "With `Generator.integers`, you can generate random integers from low (remember that this is inclusive with NumPy) to high (exclusive). You can set `endpoint=True` to make the high number inclusive.\n",
        "\n",
        "You can generate a `2 x 4 array` of random integers between `0 and 4` with:"
      ]
    },
    {
      "cell_type": "code",
      "execution_count": null,
      "metadata": {
        "id": "bCMbDAikZGGS",
        "outputId": "379010ef-123a-4722-e42a-d73bd1ac4679",
        "colab": {
          "base_uri": "https://localhost:8080/"
        }
      },
      "outputs": [
        {
          "output_type": "execute_result",
          "data": {
            "text/plain": [
              "array([[2, 4, 1, 4],\n",
              "       [3, 0, 1, 4]])"
            ]
          },
          "metadata": {},
          "execution_count": 66
        }
      ],
      "source": [
        "rng.integers(5, size=(2, 4))"
      ]
    },
    {
      "cell_type": "markdown",
      "metadata": {
        "id": "ij442nFkZGGT"
      },
      "source": [
        "**[Read more about random number generation here.](https://numpy.org/doc/stable/reference/random/index.html#numpyrandom)**"
      ]
    },
    {
      "cell_type": "markdown",
      "metadata": {
        "id": "mR2UV9ETZGGT"
      },
      "source": [
        "---\n",
        "# Section 5: How to get unique items and counts\n",
        "\n",
        "*This section covers `np.unique()`*\n",
        "\n",
        "---\n",
        "You can find the unique elements in an array easily with `np.unique`.\n",
        "\n",
        "**For example**, if you start with this array:"
      ]
    },
    {
      "cell_type": "code",
      "execution_count": null,
      "metadata": {
        "id": "e5NE-W1jZGGU"
      },
      "outputs": [],
      "source": [
        "a = np.array([11, 11, 12, 13, 14, 15, 16, 17, 12, 13, 11, 14, 18, 19, 20])"
      ]
    },
    {
      "cell_type": "markdown",
      "metadata": {
        "id": "oD1VBSZFZGGU"
      },
      "source": [
        "you can use `np.unique` to print the unique values in your array:"
      ]
    },
    {
      "cell_type": "code",
      "execution_count": null,
      "metadata": {
        "id": "NbuSljm8ZGGV",
        "outputId": "36f3e93f-cc36-4803-e567-f66b5229bded",
        "colab": {
          "base_uri": "https://localhost:8080/"
        }
      },
      "outputs": [
        {
          "output_type": "execute_result",
          "data": {
            "text/plain": [
              "array([11, 12, 13, 14, 15, 16, 17, 18, 19, 20])"
            ]
          },
          "metadata": {},
          "execution_count": 68
        }
      ],
      "source": [
        "unique_values = np.unique(a)\n",
        "unique_values"
      ]
    },
    {
      "cell_type": "markdown",
      "metadata": {
        "id": "rWzyukzVZGGV"
      },
      "source": [
        "---\n",
        "To get the `indices` of unique values in a NumPy array (an array of ***first index positions*** of unique values in the array), just set the `return_index` argument as `True` in `np.unique()` as well as your array.\n",
        "\n",
        "**Try it**"
      ]
    },
    {
      "cell_type": "code",
      "execution_count": null,
      "metadata": {
        "id": "ylNP0niVZGGW",
        "colab": {
          "base_uri": "https://localhost:8080/"
        },
        "outputId": "08380efa-9b4f-46dd-b494-e02dd10a0b7e"
      },
      "outputs": [
        {
          "output_type": "stream",
          "name": "stdout",
          "text": [
            "Unique values with their first index positions: [11 12 13 14 15 16 17 18 19 20] [ 0  2  3  4  5  6  7 12 13 14]\n"
          ]
        }
      ],
      "source": [
        "# Get unique values\n",
        "unique_values, indices_list = np.unique(a, return_index=True)\n",
        "print(\"Unique values with their first index positions:\", unique_values, indices_list)"
      ]
    },
    {
      "cell_type": "markdown",
      "metadata": {
        "id": "82cjHiYyZGGW"
      },
      "source": [
        "---\n",
        "You can pass the `return_counts` argument in `np.unique()` along with your array to get the frequency `count` of unique values in a NumPy array.\n",
        "\n",
        "**Try It**"
      ]
    },
    {
      "cell_type": "code",
      "execution_count": null,
      "metadata": {
        "id": "d5f0or8_ZGGX",
        "colab": {
          "base_uri": "https://localhost:8080/"
        },
        "outputId": "80b44465-8204-49fe-8a57-1cdbdb2de15c"
      },
      "outputs": [
        {
          "output_type": "stream",
          "name": "stdout",
          "text": [
            "Unique values with their counts: [11 12 13 14 15 16 17 18 19 20] [3 2 2 2 1 1 1 1 1 1]\n"
          ]
        }
      ],
      "source": [
        "# Code here\n",
        "unique_values, occurrence_count = np.unique(a, return_counts=True)\n",
        "print(\"Unique values with their counts:\", unique_values, occurrence_count)"
      ]
    },
    {
      "cell_type": "markdown",
      "metadata": {
        "id": "rrw7K7WkZGGX"
      },
      "source": [
        "---\n",
        "This also works with 2D arrays! If you start with this array:"
      ]
    },
    {
      "cell_type": "code",
      "execution_count": null,
      "metadata": {
        "id": "QgR2kQaRZGGY",
        "outputId": "55823a64-c4e2-4d00-feab-23b47f527fcf",
        "colab": {
          "base_uri": "https://localhost:8080/"
        }
      },
      "outputs": [
        {
          "output_type": "execute_result",
          "data": {
            "text/plain": [
              "array([[ 1,  2,  3,  4],\n",
              "       [ 5,  6,  7,  8],\n",
              "       [ 9, 10, 11, 12],\n",
              "       [ 1,  2,  3,  4]])"
            ]
          },
          "metadata": {},
          "execution_count": 71
        }
      ],
      "source": [
        "a_2d = np.array([[1, 2, 3, 4], [5, 6, 7, 8], [9, 10, 11, 12], [1, 2, 3, 4]])\n",
        "a_2d"
      ]
    },
    {
      "cell_type": "code",
      "execution_count": null,
      "metadata": {
        "id": "Hr1g-OOlZGGY",
        "outputId": "7154a042-3d5a-4cb4-d838-12b93882e072",
        "colab": {
          "base_uri": "https://localhost:8080/"
        }
      },
      "outputs": [
        {
          "output_type": "execute_result",
          "data": {
            "text/plain": [
              "array([ 1,  2,  3,  4,  5,  6,  7,  8,  9, 10, 11, 12])"
            ]
          },
          "metadata": {},
          "execution_count": 72
        }
      ],
      "source": [
        "unique_values = np.unique(a_2d)\n",
        "unique_values"
      ]
    },
    {
      "cell_type": "markdown",
      "metadata": {
        "id": "nPVpWCG8ZGGZ"
      },
      "source": [
        "> If the axis argument isn’t passed, your 2D array will be flattened.\n",
        "---\n",
        "\n",
        "If you want to get the `unique rows or columns`, make sure to pass the `axis` argument. To find the unique rows, specify `axis=0` and for columns, specify `axis=1`.\n",
        "\n",
        "**Like this**"
      ]
    },
    {
      "cell_type": "code",
      "execution_count": null,
      "metadata": {
        "id": "iV-7WHOoZGGZ",
        "outputId": "35a9cf86-6778-4078-d1d6-575db80ca384",
        "colab": {
          "base_uri": "https://localhost:8080/"
        }
      },
      "outputs": [
        {
          "output_type": "execute_result",
          "data": {
            "text/plain": [
              "array([[ 1,  2,  3,  4],\n",
              "       [ 5,  6,  7,  8],\n",
              "       [ 9, 10, 11, 12]])"
            ]
          },
          "metadata": {},
          "execution_count": 73
        }
      ],
      "source": [
        "unique_rows = np.unique(a_2d, axis=0)\n",
        "unique_rows"
      ]
    },
    {
      "cell_type": "markdown",
      "metadata": {
        "id": "T8n02aHgZGGZ"
      },
      "source": [
        "---\n",
        "**Try this**\n",
        "- To get the unique rows, index position, and occurrence count, you can use:"
      ]
    },
    {
      "cell_type": "code",
      "execution_count": null,
      "metadata": {
        "id": "XmnGud6RZGGa",
        "colab": {
          "base_uri": "https://localhost:8080/"
        },
        "outputId": "c30708fb-a332-429b-c440-5be96ce064be"
      },
      "outputs": [
        {
          "output_type": "stream",
          "name": "stdout",
          "text": [
            "Unique rows:\n",
            " [[1 2]\n",
            " [3 4]\n",
            " [5 6]]\n",
            "Indices of unique rows: [0 1 3]\n",
            "Occurrence count of unique rows: [2 1 1]\n"
          ]
        }
      ],
      "source": [
        "# code here\n",
        "a = np.array([[1, 2], [3, 4], [1, 2], [5, 6]])\n",
        "\n",
        "unique_rows, indices, occurrence_count = np.unique(a, axis=0, return_index=True, return_counts=True)\n",
        "print(\"Unique rows:\\n\", unique_rows)\n",
        "print(\"Indices of unique rows:\", indices)\n",
        "print(\"Occurrence count of unique rows:\", occurrence_count)"
      ]
    },
    {
      "cell_type": "markdown",
      "metadata": {
        "id": "vLsjvkyVZGGa"
      },
      "source": [
        "**[Learn more about `numpy.unique` here.](https://numpy.org/doc/stable/reference/generated/numpy.unique.html#numpy.unique)**"
      ]
    },
    {
      "cell_type": "markdown",
      "metadata": {
        "id": "tXFAXFZNZGGa"
      },
      "source": [
        "---\n",
        "# Section 6: Transposing and reshaping a matrix\n",
        "*This section covers `arr.reshape()`, `arr.transpose()`, `arr.T`*\n",
        "\n",
        "It’s common to need to transpose your matrices. NumPy arrays have the property `T` that allows you to transpose a matrix.\n",
        "\n",
        "![alt_text](S1-pics\\t1.png)\n",
        "\n",
        "You may also need to `switch the dimensions` of a matrix.\n",
        "\n",
        ">This can happen when, for example, you have a model that expects a certain input shape that is different from your dataset.\n",
        "\n",
        "This is where the reshape method can be useful. You simply need to pass in the new dimensions that you want for the matrix."
      ]
    },
    {
      "cell_type": "code",
      "execution_count": null,
      "metadata": {
        "id": "lNLJQX-EZGGb",
        "outputId": "815bb39c-fd01-4191-be6a-0c9d76c1ade2",
        "colab": {
          "base_uri": "https://localhost:8080/"
        }
      },
      "outputs": [
        {
          "output_type": "execute_result",
          "data": {
            "text/plain": [
              "array([1, 2, 3, 4, 5, 6])"
            ]
          },
          "metadata": {},
          "execution_count": 75
        }
      ],
      "source": [
        "data = np.arange(1,7)\n",
        "data"
      ]
    },
    {
      "cell_type": "code",
      "execution_count": null,
      "metadata": {
        "id": "Jei7aKLvZGGb",
        "outputId": "8a4a3e38-6206-4c98-a436-3b75a7e5af1e",
        "colab": {
          "base_uri": "https://localhost:8080/"
        }
      },
      "outputs": [
        {
          "output_type": "execute_result",
          "data": {
            "text/plain": [
              "array([[1, 2, 3],\n",
              "       [4, 5, 6]])"
            ]
          },
          "metadata": {},
          "execution_count": 76
        }
      ],
      "source": [
        "data.reshape(2, 3)"
      ]
    },
    {
      "cell_type": "code",
      "execution_count": null,
      "metadata": {
        "id": "lFw9bEfqZGGb",
        "outputId": "91cdc320-625b-471d-c36f-9eaad2cb3284",
        "colab": {
          "base_uri": "https://localhost:8080/"
        }
      },
      "outputs": [
        {
          "output_type": "execute_result",
          "data": {
            "text/plain": [
              "array([[1, 2],\n",
              "       [3, 4],\n",
              "       [5, 6]])"
            ]
          },
          "metadata": {},
          "execution_count": 77
        }
      ],
      "source": [
        "data.reshape(3, 2)"
      ]
    },
    {
      "cell_type": "markdown",
      "metadata": {
        "id": "UlHEHHx_ZGGc"
      },
      "source": [
        "\n",
        "![alt_text](S1-pics\\t2.png)\n",
        "\n",
        "You can also use `.transpose()` to reverse or change the axes of an array according to the values you specify.\n",
        "\n",
        "If you start with this array:"
      ]
    },
    {
      "cell_type": "code",
      "execution_count": null,
      "metadata": {
        "id": "ZqGdaHdrZGGc",
        "outputId": "1cd02ae6-a8aa-4eb8-baf3-9890faef5d21",
        "colab": {
          "base_uri": "https://localhost:8080/"
        }
      },
      "outputs": [
        {
          "output_type": "execute_result",
          "data": {
            "text/plain": [
              "array([[0, 1, 2],\n",
              "       [3, 4, 5]])"
            ]
          },
          "metadata": {},
          "execution_count": 78
        }
      ],
      "source": [
        "arr = np.arange(6).reshape((2, 3))\n",
        "arr"
      ]
    },
    {
      "cell_type": "markdown",
      "metadata": {
        "id": "YTMpolnzZGGc"
      },
      "source": [
        "You can transpose your array with `arr.transpose()`."
      ]
    },
    {
      "cell_type": "code",
      "execution_count": null,
      "metadata": {
        "id": "fRmackFLZGGd",
        "outputId": "09b9c0b8-1a47-4e44-d1b8-0227ac199bda",
        "colab": {
          "base_uri": "https://localhost:8080/"
        }
      },
      "outputs": [
        {
          "output_type": "execute_result",
          "data": {
            "text/plain": [
              "array([[0, 3],\n",
              "       [1, 4],\n",
              "       [2, 5]])"
            ]
          },
          "metadata": {},
          "execution_count": 79
        }
      ],
      "source": [
        "arr.transpose()"
      ]
    },
    {
      "cell_type": "markdown",
      "metadata": {
        "id": "o1B1pgixZGGd"
      },
      "source": [
        "You can also use `arr.T`:"
      ]
    },
    {
      "cell_type": "code",
      "execution_count": null,
      "metadata": {
        "id": "FaMhv7XHZGGd",
        "outputId": "eeb803d2-035a-41d8-81b2-37b9a3384e66",
        "colab": {
          "base_uri": "https://localhost:8080/"
        }
      },
      "outputs": [
        {
          "output_type": "execute_result",
          "data": {
            "text/plain": [
              "array([[0, 3],\n",
              "       [1, 4],\n",
              "       [2, 5]])"
            ]
          },
          "metadata": {},
          "execution_count": 80
        }
      ],
      "source": [
        "arr.T"
      ]
    },
    {
      "cell_type": "markdown",
      "metadata": {
        "id": "1pzPvgqmZGGe"
      },
      "source": [
        "**To learn more about transposing and reshaping arrays, see [transpose](https://numpy.org/doc/stable/reference/generated/numpy.transpose.html#numpy.transpose) and [reshape](https://numpy.org/doc/stable/reference/generated/numpy.reshape.html#numpy.reshape).**"
      ]
    },
    {
      "cell_type": "markdown",
      "metadata": {
        "id": "0V1oEwXpZGGe"
      },
      "source": [
        "---\n",
        "# Section 7: How to reverse an array\n",
        "*This section covers `np.flip()`*\n",
        "\n",
        "---\n",
        "NumPy’s `np.flip()` function allows you to ***flip, or reverse***, the contents of an array along an axis.\n",
        "\n",
        "- When using `np.flip()`, specify the array you would like to reverse and the `axis`.\n",
        "- If you don’t specify the axis, NumPy will reverse the contents along all of the axes of your input array.\n",
        "\n",
        "### Reversing a 1D array\n",
        "\n",
        "If you begin with a 1D array like this one:"
      ]
    },
    {
      "cell_type": "code",
      "execution_count": null,
      "metadata": {
        "id": "m0xdemxeZGGe",
        "outputId": "55cff091-9eff-466d-808b-ac13490168c2",
        "colab": {
          "base_uri": "https://localhost:8080/"
        }
      },
      "outputs": [
        {
          "output_type": "execute_result",
          "data": {
            "text/plain": [
              "array([1, 2, 3, 4, 5, 6, 7, 8])"
            ]
          },
          "metadata": {},
          "execution_count": 81
        }
      ],
      "source": [
        "arr = np.array([1, 2, 3, 4, 5, 6, 7, 8])\n",
        "arr"
      ]
    },
    {
      "cell_type": "code",
      "execution_count": null,
      "metadata": {
        "id": "Carv676qZGGf",
        "outputId": "25f595fb-b4b0-4e8e-b43d-f7dd64d3185c",
        "colab": {
          "base_uri": "https://localhost:8080/"
        }
      },
      "outputs": [
        {
          "output_type": "execute_result",
          "data": {
            "text/plain": [
              "array([8, 7, 6, 5, 4, 3, 2, 1])"
            ]
          },
          "metadata": {},
          "execution_count": 82
        }
      ],
      "source": [
        "# You can reverse it with:\n",
        "reversed_arr = np.flip(arr)\n",
        "reversed_arr"
      ]
    },
    {
      "cell_type": "markdown",
      "metadata": {
        "id": "WXUhRsicZGGf"
      },
      "source": [
        "---\n",
        "### Reversing a 2D array\n",
        "\n",
        "A 2D array works much the same way.\n",
        "\n",
        "If you start with this array:"
      ]
    },
    {
      "cell_type": "code",
      "execution_count": null,
      "metadata": {
        "id": "poQw6KXdZGGf",
        "outputId": "f49216cb-655b-4bdb-a65f-1bc3b79c0f02",
        "colab": {
          "base_uri": "https://localhost:8080/"
        }
      },
      "outputs": [
        {
          "output_type": "execute_result",
          "data": {
            "text/plain": [
              "array([[ 1,  2,  3,  4],\n",
              "       [ 5,  6,  7,  8],\n",
              "       [ 9, 10, 11, 12]])"
            ]
          },
          "metadata": {},
          "execution_count": 83
        }
      ],
      "source": [
        "arr_2d = np.array([[1, 2, 3, 4], [5, 6, 7, 8], [9, 10, 11, 12]])\n",
        "arr_2d"
      ]
    },
    {
      "cell_type": "code",
      "execution_count": null,
      "metadata": {
        "id": "4GpT_QFtZGGg",
        "outputId": "cdc92559-2974-44d2-fde4-b98c7549f9ab",
        "colab": {
          "base_uri": "https://localhost:8080/"
        }
      },
      "outputs": [
        {
          "output_type": "execute_result",
          "data": {
            "text/plain": [
              "array([[12, 11, 10,  9],\n",
              "       [ 8,  7,  6,  5],\n",
              "       [ 4,  3,  2,  1]])"
            ]
          },
          "metadata": {},
          "execution_count": 84
        }
      ],
      "source": [
        "# You can reverse the content in all of the rows and all of the columns with:\n",
        "reversed_arr = np.flip(arr_2d)\n",
        "reversed_arr"
      ]
    },
    {
      "cell_type": "code",
      "execution_count": null,
      "metadata": {
        "id": "CSC0pyY-ZGGh",
        "outputId": "21729eb3-d081-4186-da2b-1b5501384b35",
        "colab": {
          "base_uri": "https://localhost:8080/"
        }
      },
      "outputs": [
        {
          "output_type": "execute_result",
          "data": {
            "text/plain": [
              "array([[ 9, 10, 11, 12],\n",
              "       [ 5,  6,  7,  8],\n",
              "       [ 1,  2,  3,  4]])"
            ]
          },
          "metadata": {},
          "execution_count": 85
        }
      ],
      "source": [
        "# You can easily reverse only the rows with:\n",
        "reversed_arr_rows = np.flip(arr_2d, axis=0)\n",
        "reversed_arr_rows"
      ]
    },
    {
      "cell_type": "code",
      "execution_count": null,
      "metadata": {
        "id": "i25NzJi4ZGGi",
        "outputId": "9abdc3b9-1002-43aa-ad97-71e74968ccb3",
        "colab": {
          "base_uri": "https://localhost:8080/"
        }
      },
      "outputs": [
        {
          "output_type": "execute_result",
          "data": {
            "text/plain": [
              "array([[ 4,  3,  2,  1],\n",
              "       [ 8,  7,  6,  5],\n",
              "       [12, 11, 10,  9]])"
            ]
          },
          "metadata": {},
          "execution_count": 86
        }
      ],
      "source": [
        "# Or reverse only the columns with:\n",
        "reversed_arr_columns = np.flip(arr_2d, axis=1)\n",
        "reversed_arr_columns"
      ]
    },
    {
      "cell_type": "markdown",
      "metadata": {
        "id": "EJiHKVFBZGGi"
      },
      "source": [
        ">You can also reverse the contents of only one column or row. For example, you can reverse the contents of the row at index position 1 (the second row):\n"
      ]
    },
    {
      "cell_type": "code",
      "execution_count": null,
      "metadata": {
        "id": "ktKDsVJaZGGi",
        "outputId": "c17b5efe-4561-4c06-de51-44a25fb7c4ce",
        "colab": {
          "base_uri": "https://localhost:8080/"
        }
      },
      "outputs": [
        {
          "output_type": "execute_result",
          "data": {
            "text/plain": [
              "array([[ 1,  2,  3,  4],\n",
              "       [ 8,  7,  6,  5],\n",
              "       [ 9, 10, 11, 12]])"
            ]
          },
          "metadata": {},
          "execution_count": 87
        }
      ],
      "source": [
        "arr_2d[1] = np.flip(arr_2d[1])\n",
        "arr_2d"
      ]
    },
    {
      "cell_type": "markdown",
      "metadata": {
        "id": "u4QZQ5uYZGGj"
      },
      "source": [
        ">You can also reverse the column at index position 1 (the second column):"
      ]
    },
    {
      "cell_type": "code",
      "execution_count": null,
      "metadata": {
        "id": "VLVhxmb9ZGGj",
        "outputId": "ebd4b7e4-e8c9-4fc4-b266-ccd1f2652fba",
        "colab": {
          "base_uri": "https://localhost:8080/"
        }
      },
      "outputs": [
        {
          "output_type": "execute_result",
          "data": {
            "text/plain": [
              "array([[ 1, 10,  3,  4],\n",
              "       [ 8,  7,  6,  5],\n",
              "       [ 9,  2, 11, 12]])"
            ]
          },
          "metadata": {},
          "execution_count": 88
        }
      ],
      "source": [
        "arr_2d[:,1] = np.flip(arr_2d[:,1])\n",
        "arr_2d"
      ]
    },
    {
      "cell_type": "markdown",
      "metadata": {
        "id": "Foao1-U_ZGGk"
      },
      "source": [
        "**Read more about reversing arrays at [flip](https://numpy.org/doc/stable/reference/generated/numpy.flip.html#numpy.flip).**"
      ]
    },
    {
      "cell_type": "markdown",
      "metadata": {
        "id": "6B8HXWvWZGGk"
      },
      "source": [
        "---\n",
        "# Section 9: Reshaping and flattening multidimensional arrays\n",
        "*This section covers `.flatten()`, `ravel()`*\n",
        "\n",
        "There are two popular ways to flatten an array: `.flatten()` and `.ravel()`.\n",
        "\n",
        ">The primary difference between the two is that ***the new array created using ravel() is actually a reference to the parent array (i.e., a “view”)***.\n",
        "\n",
        "This means that any changes to the new array will affect the parent array as well. Since ravel does not create a copy, it’s memory efficient.\n",
        "\n",
        "If you start with this array:"
      ]
    },
    {
      "cell_type": "code",
      "execution_count": null,
      "metadata": {
        "id": "0o2THEhlZGGk",
        "outputId": "eb276eab-9393-4c76-a282-6d1487449d8a",
        "colab": {
          "base_uri": "https://localhost:8080/"
        }
      },
      "outputs": [
        {
          "output_type": "execute_result",
          "data": {
            "text/plain": [
              "array([[ 1,  2,  3,  4],\n",
              "       [ 5,  6,  7,  8],\n",
              "       [ 9, 10, 11, 12]])"
            ]
          },
          "metadata": {},
          "execution_count": 89
        }
      ],
      "source": [
        "x = np.array([[1 , 2, 3, 4], [5, 6, 7, 8], [9, 10, 11, 12]])\n",
        "x"
      ]
    },
    {
      "cell_type": "markdown",
      "metadata": {
        "id": "zusruvt8ZGGl"
      },
      "source": [
        "**Try to**\n",
        "- Use `flatten` to flatten your array into a 1D array."
      ]
    },
    {
      "cell_type": "code",
      "execution_count": null,
      "metadata": {
        "colab": {
          "base_uri": "https://localhost:8080/"
        },
        "id": "adF5MOeiZGGl",
        "outputId": "c08aae25-4e97-47be-fd96-cc07c688a59a"
      },
      "outputs": [
        {
          "output_type": "stream",
          "name": "stdout",
          "text": [
            "Flattened array: [ 1  2  3  4  5  6  7  8  9 10 11 12]\n"
          ]
        }
      ],
      "source": [
        "x = np.array([[1, 2, 3, 4], [5, 6, 7, 8], [9, 10, 11, 12]])\n",
        "\n",
        "# Flatten the array\n",
        "flattened_x = x.flatten()\n",
        "print(\"Flattened array:\", flattened_x)"
      ]
    },
    {
      "cell_type": "markdown",
      "metadata": {
        "id": "1yKVGC-WZGGl"
      },
      "source": [
        "> **Note that:** When you use `flatten`, changes to your new array won’t change the parent array.\n",
        "\n",
        "For example:"
      ]
    },
    {
      "cell_type": "code",
      "execution_count": null,
      "metadata": {
        "id": "6kFqnWViZGGm",
        "outputId": "aa7bfb7c-723e-407c-8b11-e655fcda9d21",
        "colab": {
          "base_uri": "https://localhost:8080/"
        }
      },
      "outputs": [
        {
          "output_type": "execute_result",
          "data": {
            "text/plain": [
              "array([ 1,  2,  3,  4,  5,  6,  7,  8,  9, 10, 11, 12])"
            ]
          },
          "metadata": {},
          "execution_count": 91
        }
      ],
      "source": [
        "a1 = x.flatten()\n",
        "a1"
      ]
    },
    {
      "cell_type": "code",
      "execution_count": null,
      "metadata": {
        "id": "lDMf-fSaZGGm"
      },
      "outputs": [],
      "source": [
        "a1[0] = 99"
      ]
    },
    {
      "cell_type": "code",
      "execution_count": null,
      "metadata": {
        "id": "YaCQqwVQZGGm",
        "outputId": "67cf1d5d-f247-47b9-c5f5-1d013eff03da",
        "colab": {
          "base_uri": "https://localhost:8080/"
        }
      },
      "outputs": [
        {
          "output_type": "stream",
          "name": "stdout",
          "text": [
            "[[ 1  2  3  4]\n",
            " [ 5  6  7  8]\n",
            " [ 9 10 11 12]]\n"
          ]
        }
      ],
      "source": [
        "print(x)  # Original array"
      ]
    },
    {
      "cell_type": "code",
      "execution_count": null,
      "metadata": {
        "id": "K51aYZ0lZGGn",
        "outputId": "f26d2a88-c672-4a28-85f5-80ee32abdfd7",
        "colab": {
          "base_uri": "https://localhost:8080/"
        }
      },
      "outputs": [
        {
          "output_type": "stream",
          "name": "stdout",
          "text": [
            "[99  2  3  4  5  6  7  8  9 10 11 12]\n"
          ]
        }
      ],
      "source": [
        "print(a1)  # New array"
      ]
    },
    {
      "cell_type": "markdown",
      "metadata": {
        "id": "PpoXAisiZGGn"
      },
      "source": [
        ">**BUT**: But when you use `ravel`, the changes you make to the new array will affect the parent array.\n",
        "\n",
        "For example:"
      ]
    },
    {
      "cell_type": "code",
      "execution_count": null,
      "metadata": {
        "id": "4VUuN0zIZGGo",
        "outputId": "4b460875-4eb1-4c11-d395-a6b155e5f2eb",
        "colab": {
          "base_uri": "https://localhost:8080/"
        }
      },
      "outputs": [
        {
          "output_type": "execute_result",
          "data": {
            "text/plain": [
              "array([ 1,  2,  3,  4,  5,  6,  7,  8,  9, 10, 11, 12])"
            ]
          },
          "metadata": {},
          "execution_count": 95
        }
      ],
      "source": [
        "a2 = x.ravel()\n",
        "a2"
      ]
    },
    {
      "cell_type": "code",
      "execution_count": null,
      "metadata": {
        "id": "CoEMP-_mZGGo"
      },
      "outputs": [],
      "source": [
        "a2[0] = 98"
      ]
    },
    {
      "cell_type": "code",
      "execution_count": null,
      "metadata": {
        "id": "Hxy5g-zrZGGo",
        "outputId": "a61675f3-1da5-4b03-85b8-4bfd7e3f8d03",
        "colab": {
          "base_uri": "https://localhost:8080/"
        }
      },
      "outputs": [
        {
          "output_type": "stream",
          "name": "stdout",
          "text": [
            "[[98  2  3  4]\n",
            " [ 5  6  7  8]\n",
            " [ 9 10 11 12]]\n"
          ]
        }
      ],
      "source": [
        "print(x)  # Original array"
      ]
    },
    {
      "cell_type": "code",
      "execution_count": null,
      "metadata": {
        "id": "nZyVX8KHZGGp",
        "outputId": "d0e4d83a-e0f3-42b2-dc18-cebfefff05b1",
        "colab": {
          "base_uri": "https://localhost:8080/"
        }
      },
      "outputs": [
        {
          "output_type": "stream",
          "name": "stdout",
          "text": [
            "[98  2  3  4  5  6  7  8  9 10 11 12]\n"
          ]
        }
      ],
      "source": [
        "print(a2)  # New array"
      ]
    },
    {
      "cell_type": "markdown",
      "metadata": {
        "id": "ukWLO47EZGGp"
      },
      "source": [
        "**Read more about `flatten` at [ndarray.flatten](https://numpy.org/doc/stable/reference/generated/numpy.ndarray.flatten.html#numpy.ndarray.flatten) and `ravel` at [ravel](https://numpy.org/doc/stable/reference/generated/numpy.ravel.html#numpy.ravel).**"
      ]
    },
    {
      "cell_type": "markdown",
      "metadata": {
        "id": "dylp4ZNeZGGq"
      },
      "source": [
        "---\n",
        "# Section 10: How to access the docstring for more information\n",
        "*This section covers `help()`, `?`, `??`*\n",
        "\n",
        "---\n",
        "\n",
        "When it comes to the data science ecosystem, Python and NumPy are built with the user in mind. One of the best examples of this is the built-in access to documentation.\n",
        "\n",
        "Every object contains the reference to a string, which is known as the `docstring`.\n",
        "\n",
        "In most cases, this `docstring` contains a quick and concise `summary of the object` and `how to use it`.\n",
        "\n",
        "Python has a built-in `help()` function that can help you access this information.\n",
        "\n",
        "This means that nearly any time you need more information, you can use `help()` to quickly find the information that you need.\n",
        "\n",
        "**For example:**"
      ]
    },
    {
      "cell_type": "code",
      "execution_count": null,
      "metadata": {
        "id": "ZFNxiyQDZGGq",
        "outputId": "a41bac57-0e07-47fc-f742-41dd4ca63013",
        "colab": {
          "base_uri": "https://localhost:8080/"
        }
      },
      "outputs": [
        {
          "output_type": "stream",
          "name": "stdout",
          "text": [
            "Help on built-in function max in module builtins:\n",
            "\n",
            "max(...)\n",
            "    max(iterable, *[, default=obj, key=func]) -> value\n",
            "    max(arg1, arg2, *args, *[, key=func]) -> value\n",
            "    \n",
            "    With a single iterable argument, return its biggest item. The\n",
            "    default keyword-only argument specifies an object to return if\n",
            "    the provided iterable is empty.\n",
            "    With two or more arguments, return the largest argument.\n",
            "\n"
          ]
        }
      ],
      "source": [
        "help(max)"
      ]
    },
    {
      "cell_type": "markdown",
      "metadata": {
        "id": "PT3pJkGmZGGr"
      },
      "source": [
        "Because access to additional information is so useful, **IPython** uses the `?` character as a shorthand for accessing this documentation along with other relevant information.\n",
        "\n",
        "**IPython** is a command shell for interactive computing in multiple languages. **[You can find more information about IPython here](https://ipython.org/)**.\n",
        "\n",
        "**For example:**"
      ]
    },
    {
      "cell_type": "code",
      "execution_count": null,
      "metadata": {
        "id": "a5VfUhsCZGGr"
      },
      "outputs": [],
      "source": [
        "max?"
      ]
    },
    {
      "cell_type": "markdown",
      "metadata": {
        "id": "3E9xth-NZGGs"
      },
      "source": [
        "![alt_text](S1-pics\\help.png)\n",
        "\n",
        "You can even use this notation for object methods and objects themselves.\n",
        "\n",
        "Let’s say you create this array:"
      ]
    },
    {
      "cell_type": "code",
      "execution_count": null,
      "metadata": {
        "id": "T4IbQJVSZGGs"
      },
      "outputs": [],
      "source": [
        "import numpy as np\n",
        "a = np.array([1, 2, 3, 4, 5, 6])\n",
        "a?"
      ]
    },
    {
      "cell_type": "markdown",
      "metadata": {
        "id": "eBfcMNR2ZGGs"
      },
      "source": [
        "Then you can obtain a lot of useful information (first details about a itself, followed by the docstring of ndarray of which a is an instance):\n",
        "\n",
        "![alt_text](S1-pics\\h2.png)\n",
        "\n",
        "This also works for **functions** and other objects that you create.\n",
        "\n",
        ">Just remember to include a docstring with your function using a string literal (`\"\"\" \"\"\"` or `''' '''` around your documentation).\n",
        "\n",
        "For example, if you create this function:"
      ]
    },
    {
      "cell_type": "code",
      "execution_count": null,
      "metadata": {
        "id": "c7iEUaW3ZGGs"
      },
      "outputs": [],
      "source": [
        "def double(a):\n",
        "   '''Return a * 2'''\n",
        "   return a * 2"
      ]
    },
    {
      "cell_type": "code",
      "execution_count": null,
      "metadata": {
        "id": "otLBdtuBZGGt"
      },
      "outputs": [],
      "source": [
        "double?"
      ]
    },
    {
      "cell_type": "markdown",
      "metadata": {
        "id": "Zor40UnYZGGt"
      },
      "source": [
        "![alt_text](S1-pics\\h3.png)\n",
        "\n",
        "You can reach another level of information by reading the source code of the object you’re interested in. Using a double question mark (`??`) allows you to access the source code.\n",
        "\n",
        "For example:"
      ]
    },
    {
      "cell_type": "code",
      "execution_count": null,
      "metadata": {
        "id": "-tPDvcAmZGGu"
      },
      "outputs": [],
      "source": [
        "double??"
      ]
    },
    {
      "cell_type": "markdown",
      "metadata": {
        "id": "WM9GniInZGGu"
      },
      "source": [
        "![alt_text](S1-pics\\h4.png)\n",
        "\n",
        "If the object in question is compiled in a language other than Python, using `??` will return the same information as `?`.\n",
        "\n",
        "You’ll find this with a lot of built-in objects and types, for example: `len?` and `len??` returns the same info.\n",
        "\n",
        "***Why they have the same output?***\n",
        ">because they were compiled in a programming language other than Python."
      ]
    },
    {
      "cell_type": "markdown",
      "metadata": {
        "id": "KKrSq2XSZGGu"
      },
      "source": [
        "---\n",
        "# Section 11: How to save and load NumPy objects\n",
        "*This section covers `np.save`, `np.savez`, `np.savetxt`, `np.load`, `np.loadtxt`*\n",
        "\n",
        "---\n",
        "\n",
        "You will, at some point, want to save your arrays to disk and load them back without having to re-run the code. Fortunately, there are several ways to save and load objects with NumPy.\n",
        "\n",
        "- The `ndarray objects` can be saved to and loaded from the disk files with `loadtxt` and `savetxt` functions that handle normal **text files**,\n",
        "- `load` and `save` functions that handle NumPy binary files with a `.npy` **file extension**,\n",
        "- and a `savez` function that handles NumPy files with a `.npz` **file extension**.\n",
        "\n",
        ">The `.npy` and `.npz` files store `data`, `shape`, `dtype`, and ***other information required to reconstruct the ndarray in a way that allows the array to be correctly retrieved***, even when the file is on another machine with different architecture.\n",
        "\n",
        "- If you want to store a *single ndarray object*, store it as a `.npy file` using `np.save`.\n",
        "- If you want to store *more than one ndarray object in a single file*, save it as a `.npz file` using `np.savez`.\n",
        "- You can also save *several arrays into a single file* in **compressed npz format** with `savez_compressed`.\n",
        "\n",
        "It’s easy to save and load and array with `np.save()`. Just make sure to specify the array you want to save and a file name.\n",
        "\n",
        "**For example**, if you create this array:\n"
      ]
    },
    {
      "cell_type": "code",
      "execution_count": null,
      "metadata": {
        "id": "nUF1KZNmZGG3"
      },
      "outputs": [],
      "source": [
        "a = np.array([1, 2, 3, 4, 5, 6])"
      ]
    },
    {
      "cell_type": "code",
      "execution_count": null,
      "metadata": {
        "id": "G736r6KyZGG4"
      },
      "outputs": [],
      "source": [
        "# You can save it as “filename.npy” with:\n",
        "np.save('filename', a)"
      ]
    },
    {
      "cell_type": "code",
      "execution_count": null,
      "metadata": {
        "id": "jKrgOvYfZGG4"
      },
      "outputs": [],
      "source": [
        "# You can use np.load() to reconstruct your array.\n",
        "b = np.load('filename.npy')"
      ]
    },
    {
      "cell_type": "code",
      "execution_count": null,
      "metadata": {
        "id": "FjquIK2UZGG5",
        "outputId": "2b416a89-b458-4141-99ed-ac0d91adbc65",
        "colab": {
          "base_uri": "https://localhost:8080/"
        }
      },
      "outputs": [
        {
          "output_type": "stream",
          "name": "stdout",
          "text": [
            "[1 2 3 4 5 6]\n"
          ]
        }
      ],
      "source": [
        "# If you want to check your array, you can run::\n",
        "print(b)"
      ]
    },
    {
      "cell_type": "markdown",
      "metadata": {
        "id": "KZfiumonZGG5"
      },
      "source": [
        "You can save a NumPy array as a **plain text file** like a *.csv* or *.txt* file with `np.savetxt`.\n",
        "\n",
        "**For example**, if you create this array:"
      ]
    },
    {
      "cell_type": "code",
      "execution_count": null,
      "metadata": {
        "id": "4eW-5JAJZGG5"
      },
      "outputs": [],
      "source": [
        "csv_arr = np.array([1, 2, 3, 4, 5, 6, 7, 8])"
      ]
    },
    {
      "cell_type": "code",
      "execution_count": null,
      "metadata": {
        "id": "yUl4chh8ZGG6"
      },
      "outputs": [],
      "source": [
        "# You can easily save it as a .csv file with the name “new_file.csv” like this:\n",
        "np.savetxt('new_file.csv', csv_arr)"
      ]
    },
    {
      "cell_type": "code",
      "execution_count": null,
      "metadata": {
        "colab": {
          "base_uri": "https://localhost:8080/"
        },
        "id": "TfpY1fRYZGG6",
        "outputId": "2df23e6f-61b5-4776-acac-1fa04901e1e2"
      },
      "outputs": [
        {
          "output_type": "execute_result",
          "data": {
            "text/plain": [
              "array([1., 2., 3., 4., 5., 6., 7., 8.])"
            ]
          },
          "metadata": {},
          "execution_count": 111
        }
      ],
      "source": [
        "# You can quickly and easily load your saved text file using loadtxt():\n",
        "np.loadtxt('new_file.csv')"
      ]
    },
    {
      "cell_type": "markdown",
      "metadata": {
        "id": "ABmkD1kaZGG6"
      },
      "source": [
        "> The `savetxt()` and `loadtxt()` functions accept additional optional parameters such as *header*, *footer*, and *delimiter*.\n",
        "    \n",
        "While text files can be easier for sharing, `.npy` and `.npz` files are smaller and faster to read.\n",
        "\n",
        ">If you need more sophisticated handling of your text file (for example, if you need to work with lines that contain missing values), you will want to use the `genfromtxt` function.\n",
        "\n",
        "Learn more about [input and output routines here](https://numpy.org/doc/stable/reference/routines.io.html#routines-io).\n",
        "\n"
      ]
    },
    {
      "cell_type": "markdown",
      "metadata": {
        "id": "7X8e6NLuZGG7"
      },
      "source": [
        "# Thank you for your time and efforts!\n",
        "### *By:Heba-T-ALLAH Raslan*"
      ]
    }
  ],
  "metadata": {
    "kernelspec": {
      "display_name": "Python 3",
      "language": "python",
      "name": "python3"
    },
    "language_info": {
      "codemirror_mode": {
        "name": "ipython",
        "version": 3
      },
      "file_extension": ".py",
      "mimetype": "text/x-python",
      "name": "python",
      "nbconvert_exporter": "python",
      "pygments_lexer": "ipython3",
      "version": "3.7.6"
    },
    "colab": {
      "provenance": [],
      "include_colab_link": true
    }
  },
  "nbformat": 4,
  "nbformat_minor": 0
}