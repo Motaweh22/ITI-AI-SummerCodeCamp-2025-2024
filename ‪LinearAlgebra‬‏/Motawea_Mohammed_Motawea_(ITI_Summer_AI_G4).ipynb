{
  "nbformat": 4,
  "nbformat_minor": 0,
  "metadata": {
    "colab": {
      "provenance": [],
      "include_colab_link": true
    },
    "kernelspec": {
      "name": "python3",
      "display_name": "Python 3"
    },
    "language_info": {
      "name": "python"
    }
  },
  "cells": [
    {
      "cell_type": "markdown",
      "metadata": {
        "id": "view-in-github",
        "colab_type": "text"
      },
      "source": [
        "<a href=\"https://colab.research.google.com/github/Motaweh22/ITI-SummerCodeCamp-2025-2024/blob/main/%E2%80%AALinearAlgebra%E2%80%AC%E2%80%8F/Motawea_Mohammed_Motawea_(ITI_Summer_AI_G4).ipynb\" target=\"_parent\"><img src=\"https://colab.research.google.com/assets/colab-badge.svg\" alt=\"Open In Colab\"/></a>"
      ]
    },
    {
      "cell_type": "code",
      "execution_count": null,
      "metadata": {
        "id": "qy1UrHbZ2B0-"
      },
      "outputs": [],
      "source": [
        "import numpy as np"
      ]
    },
    {
      "cell_type": "code",
      "source": [
        "# Create a 3x3 array\n",
        "array_3x3 = np.array([[1, 2, 3], [4, 5, 6], [7, 8, 9]])"
      ],
      "metadata": {
        "id": "eo_EsdIO2GIz"
      },
      "execution_count": null,
      "outputs": []
    },
    {
      "cell_type": "code",
      "source": [
        "# Check its shape\n",
        "array_shape = array_3x3.shape"
      ],
      "metadata": {
        "id": "d-aBlfAj2H6q"
      },
      "execution_count": null,
      "outputs": []
    },
    {
      "cell_type": "code",
      "source": [
        "# Select the first row\n",
        "first_row = array_3x3[0, :]\n"
      ],
      "metadata": {
        "id": "MtNOyIuK2KRp"
      },
      "execution_count": null,
      "outputs": []
    },
    {
      "cell_type": "code",
      "source": [
        "# Select the 2nd column\n",
        "second_column = array_3x3[:, 1]"
      ],
      "metadata": {
        "id": "0dWneSip2OGE"
      },
      "execution_count": null,
      "outputs": []
    },
    {
      "cell_type": "code",
      "source": [
        "# Select the 2nd element in the third column\n",
        "second_element_third_column = array_3x3[1, 2]"
      ],
      "metadata": {
        "id": "pM7ckEkd2OkO"
      },
      "execution_count": null,
      "outputs": []
    },
    {
      "cell_type": "code",
      "source": [
        "# Create a 2x2 array from the first two elements of the first 2 rows and columns\n",
        "array_2x2 = array_3x3[:2, :2]"
      ],
      "metadata": {
        "id": "PhsHkRWD2Qxd"
      },
      "execution_count": null,
      "outputs": []
    },
    {
      "cell_type": "code",
      "source": [
        "# Create a single row vector\n",
        "single_row_vector = array_3x3.flatten().reshape(1, -1)\n"
      ],
      "metadata": {
        "id": "ETn1Nomc2TH3"
      },
      "execution_count": null,
      "outputs": []
    },
    {
      "cell_type": "code",
      "source": [
        "# Create a single column vector\n",
        "single_column_vector = array_3x3.flatten().reshape(-1, 1)"
      ],
      "metadata": {
        "id": "XWZkHKUJ2VHl"
      },
      "execution_count": null,
      "outputs": []
    },
    {
      "cell_type": "code",
      "source": [
        "print(\"Shape of array:\", array_shape)\n",
        "print(\"First row:\", first_row)\n",
        "print(\"Second column:\", second_column)\n",
        "print(\"Second element in the third column:\", second_element_third_column)\n",
        "print(\"2x2 array:\", array_2x2)\n",
        "print(\"Single row vector:\", single_row_vector)\n",
        "print(\"Single column vector:\", single_column_vector)"
      ],
      "metadata": {
        "colab": {
          "base_uri": "https://localhost:8080/"
        },
        "id": "9sBCHhzq2XDm",
        "outputId": "2aca303d-7db8-4498-9802-d41d7f4cab69"
      },
      "execution_count": null,
      "outputs": [
        {
          "output_type": "stream",
          "name": "stdout",
          "text": [
            "Shape of array: (3, 3)\n",
            "First row: [1 2 3]\n",
            "Second column: [2 5 8]\n",
            "Second element in the third column: 6\n",
            "2x2 array: [[1 2]\n",
            " [4 5]]\n",
            "Single row vector: [[1 2 3 4 5 6 7 8 9]]\n",
            "Single column vector: [[1]\n",
            " [2]\n",
            " [3]\n",
            " [4]\n",
            " [5]\n",
            " [6]\n",
            " [7]\n",
            " [8]\n",
            " [9]]\n"
          ]
        }
      ]
    }
  ]
}